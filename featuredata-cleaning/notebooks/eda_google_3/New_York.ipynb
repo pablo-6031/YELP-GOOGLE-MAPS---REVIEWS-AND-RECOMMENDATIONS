{
 "cells": [
  {
   "cell_type": "code",
   "execution_count": 1,
   "metadata": {},
   "outputs": [],
   "source": [
    "import pandas as pd\n",
    "import matplotlib.pyplot as plt\n",
    "import seaborn as sns\n",
    "import calendar\n",
    "import glob\n",
    "import os"
   ]
  },
  {
   "cell_type": "code",
   "execution_count": 3,
   "metadata": {},
   "outputs": [],
   "source": [
    "# Ruta de los archivos JSON\n",
    "ruta = r\"C:\\Users\\User\\Desktop\\SOYHENRY\\Trabajo Grupal\\Dataset\\Google\\reviews-estados\\review-New_York\"\n",
    "\n",
    "# Lista de archivos JSON en la carpeta\n",
    "archivos_json = glob.glob(os.path.join(ruta, \"*.json\"))\n",
    "\n",
    "# Cargar los JSON correctamente\n",
    "df_list = []\n",
    "for archivo in archivos_json:\n",
    "    try:\n",
    "        df_temp = pd.read_json(archivo, lines=True)  # Usa lines=True para JSON línea por línea\n",
    "        df_list.append(df_temp)\n",
    "    except ValueError as e:\n",
    "        print(f\"Error al leer {archivo}: {e}\")\n",
    "\n",
    "# Concatenar los dataframes\n",
    "df = pd.concat(df_list, ignore_index=True)"
   ]
  },
  {
   "cell_type": "code",
   "execution_count": 4,
   "metadata": {},
   "outputs": [
    {
     "data": {
      "text/html": [
       "<div>\n",
       "<style scoped>\n",
       "    .dataframe tbody tr th:only-of-type {\n",
       "        vertical-align: middle;\n",
       "    }\n",
       "\n",
       "    .dataframe tbody tr th {\n",
       "        vertical-align: top;\n",
       "    }\n",
       "\n",
       "    .dataframe thead th {\n",
       "        text-align: right;\n",
       "    }\n",
       "</style>\n",
       "<table border=\"1\" class=\"dataframe\">\n",
       "  <thead>\n",
       "    <tr style=\"text-align: right;\">\n",
       "      <th></th>\n",
       "      <th>user_id</th>\n",
       "      <th>name</th>\n",
       "      <th>time</th>\n",
       "      <th>rating</th>\n",
       "      <th>text</th>\n",
       "      <th>pics</th>\n",
       "      <th>resp</th>\n",
       "      <th>gmap_id</th>\n",
       "    </tr>\n",
       "  </thead>\n",
       "  <tbody>\n",
       "    <tr>\n",
       "      <th>0</th>\n",
       "      <td>1.137221e+20</td>\n",
       "      <td>Alvin Martinez</td>\n",
       "      <td>1603494795361</td>\n",
       "      <td>5</td>\n",
       "      <td>I'm late to posting this but this store especi...</td>\n",
       "      <td>[{'url': ['https://lh5.googleusercontent.com/p...</td>\n",
       "      <td>None</td>\n",
       "      <td>0x89c25fc9494dce47:0x6d63c807b59a55</td>\n",
       "    </tr>\n",
       "    <tr>\n",
       "      <th>1</th>\n",
       "      <td>1.072934e+20</td>\n",
       "      <td>Johnnie Jackson</td>\n",
       "      <td>1620157037403</td>\n",
       "      <td>1</td>\n",
       "      <td>Very dissatisfied I did not get my phone the p...</td>\n",
       "      <td>None</td>\n",
       "      <td>{'time': 1620268360920, 'text': 'We pride ours...</td>\n",
       "      <td>0x89c25fc9494dce47:0x6d63c807b59a55</td>\n",
       "    </tr>\n",
       "    <tr>\n",
       "      <th>2</th>\n",
       "      <td>1.003786e+20</td>\n",
       "      <td>Manie Blazer</td>\n",
       "      <td>1597431662039</td>\n",
       "      <td>5</td>\n",
       "      <td>Excellent very well done with professional car...</td>\n",
       "      <td>None</td>\n",
       "      <td>None</td>\n",
       "      <td>0x89c25fc9494dce47:0x6d63c807b59a55</td>\n",
       "    </tr>\n",
       "    <tr>\n",
       "      <th>3</th>\n",
       "      <td>1.149982e+20</td>\n",
       "      <td>Fashion Fiinds</td>\n",
       "      <td>1543773862044</td>\n",
       "      <td>5</td>\n",
       "      <td>Basing my review strictly on the service I rec...</td>\n",
       "      <td>None</td>\n",
       "      <td>{'time': 1543855317372, 'text': 'Thanks for th...</td>\n",
       "      <td>0x89c25fc9494dce47:0x6d63c807b59a55</td>\n",
       "    </tr>\n",
       "    <tr>\n",
       "      <th>4</th>\n",
       "      <td>1.171782e+20</td>\n",
       "      <td>Andres Rieloff</td>\n",
       "      <td>1597279097718</td>\n",
       "      <td>1</td>\n",
       "      <td>Bad! Disorganized. I'm being totally honest. I...</td>\n",
       "      <td>None</td>\n",
       "      <td>None</td>\n",
       "      <td>0x89c25fc9494dce47:0x6d63c807b59a55</td>\n",
       "    </tr>\n",
       "  </tbody>\n",
       "</table>\n",
       "</div>"
      ],
      "text/plain": [
       "        user_id             name           time  rating  \\\n",
       "0  1.137221e+20   Alvin Martinez  1603494795361       5   \n",
       "1  1.072934e+20  Johnnie Jackson  1620157037403       1   \n",
       "2  1.003786e+20     Manie Blazer  1597431662039       5   \n",
       "3  1.149982e+20   Fashion Fiinds  1543773862044       5   \n",
       "4  1.171782e+20   Andres Rieloff  1597279097718       1   \n",
       "\n",
       "                                                text  \\\n",
       "0  I'm late to posting this but this store especi...   \n",
       "1  Very dissatisfied I did not get my phone the p...   \n",
       "2  Excellent very well done with professional car...   \n",
       "3  Basing my review strictly on the service I rec...   \n",
       "4  Bad! Disorganized. I'm being totally honest. I...   \n",
       "\n",
       "                                                pics  \\\n",
       "0  [{'url': ['https://lh5.googleusercontent.com/p...   \n",
       "1                                               None   \n",
       "2                                               None   \n",
       "3                                               None   \n",
       "4                                               None   \n",
       "\n",
       "                                                resp  \\\n",
       "0                                               None   \n",
       "1  {'time': 1620268360920, 'text': 'We pride ours...   \n",
       "2                                               None   \n",
       "3  {'time': 1543855317372, 'text': 'Thanks for th...   \n",
       "4                                               None   \n",
       "\n",
       "                               gmap_id  \n",
       "0  0x89c25fc9494dce47:0x6d63c807b59a55  \n",
       "1  0x89c25fc9494dce47:0x6d63c807b59a55  \n",
       "2  0x89c25fc9494dce47:0x6d63c807b59a55  \n",
       "3  0x89c25fc9494dce47:0x6d63c807b59a55  \n",
       "4  0x89c25fc9494dce47:0x6d63c807b59a55  "
      ]
     },
     "execution_count": 4,
     "metadata": {},
     "output_type": "execute_result"
    }
   ],
   "source": [
    "df.head()"
   ]
  },
  {
   "cell_type": "code",
   "execution_count": 5,
   "metadata": {},
   "outputs": [
    {
     "data": {
      "text/plain": [
       "(2700000, 8)"
      ]
     },
     "execution_count": 5,
     "metadata": {},
     "output_type": "execute_result"
    }
   ],
   "source": [
    "# Cantidad de filas y columnas\n",
    "df.shape"
   ]
  },
  {
   "cell_type": "code",
   "execution_count": 6,
   "metadata": {},
   "outputs": [
    {
     "name": "stdout",
     "output_type": "stream",
     "text": [
      "user_id    float64\n",
      "name        object\n",
      "time         int64\n",
      "rating       int64\n",
      "text        object\n",
      "pics        object\n",
      "resp        object\n",
      "gmap_id     object\n",
      "dtype: object\n"
     ]
    }
   ],
   "source": [
    "# Ver los tipos de datos de cada columna\n",
    "print(df.dtypes)"
   ]
  },
  {
   "cell_type": "code",
   "execution_count": 7,
   "metadata": {},
   "outputs": [
    {
     "data": {
      "text/plain": [
       "Index(['user_id', 'name', 'time', 'rating', 'text', 'pics', 'resp', 'gmap_id'], dtype='object')"
      ]
     },
     "execution_count": 7,
     "metadata": {},
     "output_type": "execute_result"
    }
   ],
   "source": [
    "df.columns"
   ]
  },
  {
   "cell_type": "code",
   "execution_count": 8,
   "metadata": {},
   "outputs": [],
   "source": [
    "# Convertir las columnas  a tipo 'string'\n",
    "for col in df.select_dtypes(include='object').columns:\n",
    "    df[col] = df[col].astype('string')"
   ]
  },
  {
   "cell_type": "code",
   "execution_count": 9,
   "metadata": {},
   "outputs": [
    {
     "data": {
      "text/plain": [
       "59337"
      ]
     },
     "execution_count": 9,
     "metadata": {},
     "output_type": "execute_result"
    }
   ],
   "source": [
    "df.duplicated().sum()"
   ]
  },
  {
   "cell_type": "code",
   "execution_count": 10,
   "metadata": {},
   "outputs": [
    {
     "name": "stdout",
     "output_type": "stream",
     "text": [
      "              user_id             name           time  rating  \\\n",
      "433190   1.000013e+20   Daisy Crawford  1562613047637       5   \n",
      "433191   1.000013e+20   Daisy Crawford  1562613047637       5   \n",
      "519864   1.000014e+20     Matt Solomon  1502904476201       5   \n",
      "519873   1.000014e+20     Matt Solomon  1502904476201       5   \n",
      "2417594  1.000015e+20  Anthony Puglisi  1550149671999       4   \n",
      "...               ...              ...            ...     ...   \n",
      "357900   1.184462e+20    Jonathan Fung  1569217448412       5   \n",
      "1201332  1.184465e+20      Chinh Chinh  1529017525510       4   \n",
      "1201335  1.184465e+20      Chinh Chinh  1529017525510       4   \n",
      "1855121  1.184466e+20      Alec Holden  1584810613275       5   \n",
      "1855122  1.184466e+20      Alec Holden  1584810613275       5   \n",
      "\n",
      "                                                      text  \\\n",
      "433190   Close by authentic Chinese food. Place is not ...   \n",
      "433191   Close by authentic Chinese food. Place is not ...   \n",
      "519864                               Good customer service   \n",
      "519873                               Good customer service   \n",
      "2417594  Great overall market place. Produce is fresh& ...   \n",
      "...                                                    ...   \n",
      "357900   Make sure you get a ticket on the way in...and...   \n",
      "1201332  Been wanting to try this place since seeing it...   \n",
      "1201335  Been wanting to try this place since seeing it...   \n",
      "1855121  This spot provides extraordinary service as we...   \n",
      "1855122  This spot provides extraordinary service as we...   \n",
      "\n",
      "                                                      pics  resp  \\\n",
      "433190                                                <NA>  <NA>   \n",
      "433191                                                <NA>  <NA>   \n",
      "519864                                                <NA>  <NA>   \n",
      "519873                                                <NA>  <NA>   \n",
      "2417594                                               <NA>  <NA>   \n",
      "...                                                    ...   ...   \n",
      "357900                                                <NA>  <NA>   \n",
      "1201332  [{'url': ['https://lh5.googleusercontent.com/p...  <NA>   \n",
      "1201335  [{'url': ['https://lh5.googleusercontent.com/p...  <NA>   \n",
      "1855121                                               <NA>  <NA>   \n",
      "1855122                                               <NA>  <NA>   \n",
      "\n",
      "                                       gmap_id  \n",
      "433190   0x89d6d09030435d1b:0x66e801f6778ca788  \n",
      "433191   0x89d6d09030435d1b:0x66e801f6778ca788  \n",
      "519864   0x89d36e7f288e3d55:0xc7916ace6c856b8c  \n",
      "519873   0x89d36e7f288e3d55:0xc7916ace6c856b8c  \n",
      "2417594  0x89dd2dd11fb89ceb:0x529da99f9815687a  \n",
      "...                                        ...  \n",
      "357900   0x89c2598f7ff4aa09:0x313547e757cb8cea  \n",
      "1201332  0x89c25942d18bf5a9:0xb42f37458cc7f089  \n",
      "1201335  0x89c25942d18bf5a9:0xb42f37458cc7f089  \n",
      "1855121  0x89c25a5a7eb54e13:0x4fa646fc6042eb8e  \n",
      "1855122  0x89c25a5a7eb54e13:0x4fa646fc6042eb8e  \n",
      "\n",
      "[117785 rows x 8 columns]\n"
     ]
    }
   ],
   "source": [
    "# Filas duplicadas\n",
    "duplicadas = df[df.duplicated(keep=False)]\n",
    "\n",
    "# Ordenamos por todas las columnas para que se vean juntas\n",
    "duplicadas = duplicadas.sort_values(by=df.columns.tolist())\n",
    "\n",
    "# Mostramos el resultado\n",
    "print(duplicadas)"
   ]
  },
  {
   "cell_type": "code",
   "execution_count": 11,
   "metadata": {},
   "outputs": [],
   "source": [
    "# Eliminar filas duplicadas\n",
    "df = df.drop_duplicates()"
   ]
  },
  {
   "cell_type": "code",
   "execution_count": 12,
   "metadata": {},
   "outputs": [
    {
     "data": {
      "text/plain": [
       "user_id          0\n",
       "name             0\n",
       "time             0\n",
       "rating           0\n",
       "text       1159136\n",
       "pics       2543929\n",
       "resp       2382863\n",
       "gmap_id          0\n",
       "dtype: int64"
      ]
     },
     "execution_count": 12,
     "metadata": {},
     "output_type": "execute_result"
    }
   ],
   "source": [
    "# Verificar la cantidad de valores nulos por columna\n",
    "df.isnull().sum()"
   ]
  },
  {
   "cell_type": "code",
   "execution_count": 13,
   "metadata": {},
   "outputs": [
    {
     "data": {
      "text/html": [
       "<div>\n",
       "<style scoped>\n",
       "    .dataframe tbody tr th:only-of-type {\n",
       "        vertical-align: middle;\n",
       "    }\n",
       "\n",
       "    .dataframe tbody tr th {\n",
       "        vertical-align: top;\n",
       "    }\n",
       "\n",
       "    .dataframe thead th {\n",
       "        text-align: right;\n",
       "    }\n",
       "</style>\n",
       "<table border=\"1\" class=\"dataframe\">\n",
       "  <thead>\n",
       "    <tr style=\"text-align: right;\">\n",
       "      <th></th>\n",
       "      <th>user_id</th>\n",
       "      <th>time</th>\n",
       "      <th>rating</th>\n",
       "    </tr>\n",
       "  </thead>\n",
       "  <tbody>\n",
       "    <tr>\n",
       "      <th>count</th>\n",
       "      <td>2.640663e+06</td>\n",
       "      <td>2.640663e+06</td>\n",
       "      <td>2.640663e+06</td>\n",
       "    </tr>\n",
       "    <tr>\n",
       "      <th>mean</th>\n",
       "      <td>1.092969e+20</td>\n",
       "      <td>1.551473e+12</td>\n",
       "      <td>4.303740e+00</td>\n",
       "    </tr>\n",
       "    <tr>\n",
       "      <th>std</th>\n",
       "      <td>5.265431e+18</td>\n",
       "      <td>4.548452e+10</td>\n",
       "      <td>1.113559e+00</td>\n",
       "    </tr>\n",
       "    <tr>\n",
       "      <th>min</th>\n",
       "      <td>1.000000e+20</td>\n",
       "      <td>6.626016e+11</td>\n",
       "      <td>1.000000e+00</td>\n",
       "    </tr>\n",
       "    <tr>\n",
       "      <th>25%</th>\n",
       "      <td>1.047602e+20</td>\n",
       "      <td>1.524690e+12</td>\n",
       "      <td>4.000000e+00</td>\n",
       "    </tr>\n",
       "    <tr>\n",
       "      <th>50%</th>\n",
       "      <td>1.092882e+20</td>\n",
       "      <td>1.555425e+12</td>\n",
       "      <td>5.000000e+00</td>\n",
       "    </tr>\n",
       "    <tr>\n",
       "      <th>75%</th>\n",
       "      <td>1.138531e+20</td>\n",
       "      <td>1.581127e+12</td>\n",
       "      <td>5.000000e+00</td>\n",
       "    </tr>\n",
       "    <tr>\n",
       "      <th>max</th>\n",
       "      <td>1.184467e+20</td>\n",
       "      <td>1.631067e+12</td>\n",
       "      <td>5.000000e+00</td>\n",
       "    </tr>\n",
       "  </tbody>\n",
       "</table>\n",
       "</div>"
      ],
      "text/plain": [
       "            user_id          time        rating\n",
       "count  2.640663e+06  2.640663e+06  2.640663e+06\n",
       "mean   1.092969e+20  1.551473e+12  4.303740e+00\n",
       "std    5.265431e+18  4.548452e+10  1.113559e+00\n",
       "min    1.000000e+20  6.626016e+11  1.000000e+00\n",
       "25%    1.047602e+20  1.524690e+12  4.000000e+00\n",
       "50%    1.092882e+20  1.555425e+12  5.000000e+00\n",
       "75%    1.138531e+20  1.581127e+12  5.000000e+00\n",
       "max    1.184467e+20  1.631067e+12  5.000000e+00"
      ]
     },
     "execution_count": 13,
     "metadata": {},
     "output_type": "execute_result"
    }
   ],
   "source": [
    "# Estadísticas descriptivas para columnas numéricas\n",
    "df.describe() "
   ]
  },
  {
   "cell_type": "code",
   "execution_count": 14,
   "metadata": {},
   "outputs": [
    {
     "name": "stdout",
     "output_type": "stream",
     "text": [
      "Total de outliers detectados: 264350\n"
     ]
    }
   ],
   "source": [
    "outliers = pd.DataFrame()\n",
    "\n",
    "for col in df.select_dtypes(include='number').columns:\n",
    "    Q1 = df[col].quantile(0.25)\n",
    "    Q3 = df[col].quantile(0.75)\n",
    "    IQR = Q3 - Q1\n",
    "    lim_inf = Q1 - 1.5 * IQR\n",
    "    lim_sup = Q3 + 1.5 * IQR\n",
    "    outliers_col = df[(df[col] < lim_inf) | (df[col] > lim_sup)]\n",
    "    outliers = pd.concat([outliers, outliers_col])\n",
    "\n",
    "print(f\"Total de outliers detectados: {len(outliers)}\")"
   ]
  },
  {
   "cell_type": "code",
   "execution_count": 15,
   "metadata": {},
   "outputs": [
    {
     "name": "stdout",
     "output_type": "stream",
     "text": [
      "user_id: 0 outliers\n",
      "time: 37523 outliers\n",
      "rating: 226827 outliers\n"
     ]
    }
   ],
   "source": [
    "# Ver de qué columnas vienen los outliers\n",
    "for col in df.select_dtypes(include='number').columns:\n",
    "    Q1 = df[col].quantile(0.25)\n",
    "    Q3 = df[col].quantile(0.75)\n",
    "    IQR = Q3 - Q1\n",
    "    lim_inf = Q1 - 1.5 * IQR\n",
    "    lim_sup = Q3 + 1.5 * IQR\n",
    "    cantidad = df[(df[col] < lim_inf) | (df[col] > lim_sup)].shape[0]\n",
    "    print(f\"{col}: {cantidad} outliers\")"
   ]
  },
  {
   "cell_type": "code",
   "execution_count": 16,
   "metadata": {},
   "outputs": [
    {
     "name": "stdout",
     "output_type": "stream",
     "text": [
      "\n",
      "Fechas convertidas:\n",
      "             time                   fecha\n",
      "0  1603494795361 2020-10-23 23:13:15.361\n",
      "1  1620157037403 2021-05-04 19:37:17.403\n",
      "2  1597431662039 2020-08-14 19:01:02.039\n",
      "3  1543773862044 2018-12-02 18:04:22.044\n",
      "4  1597279097718 2020-08-13 00:38:17.718\n"
     ]
    }
   ],
   "source": [
    "df['fecha'] = pd.to_datetime(df['time'], unit='ms')\n",
    "print(\"\\nFechas convertidas:\\n\", df[['time', 'fecha']].head())"
   ]
  },
  {
   "cell_type": "code",
   "execution_count": 17,
   "metadata": {},
   "outputs": [
    {
     "data": {
      "text/html": [
       "<div>\n",
       "<style scoped>\n",
       "    .dataframe tbody tr th:only-of-type {\n",
       "        vertical-align: middle;\n",
       "    }\n",
       "\n",
       "    .dataframe tbody tr th {\n",
       "        vertical-align: top;\n",
       "    }\n",
       "\n",
       "    .dataframe thead th {\n",
       "        text-align: right;\n",
       "    }\n",
       "</style>\n",
       "<table border=\"1\" class=\"dataframe\">\n",
       "  <thead>\n",
       "    <tr style=\"text-align: right;\">\n",
       "      <th></th>\n",
       "      <th>user_id</th>\n",
       "      <th>name</th>\n",
       "      <th>time</th>\n",
       "      <th>rating</th>\n",
       "      <th>text</th>\n",
       "      <th>pics</th>\n",
       "      <th>resp</th>\n",
       "      <th>gmap_id</th>\n",
       "      <th>fecha</th>\n",
       "    </tr>\n",
       "  </thead>\n",
       "  <tbody>\n",
       "    <tr>\n",
       "      <th>0</th>\n",
       "      <td>1.137221e+20</td>\n",
       "      <td>Alvin Martinez</td>\n",
       "      <td>1603494795361</td>\n",
       "      <td>5</td>\n",
       "      <td>I'm late to posting this but this store especi...</td>\n",
       "      <td>[{'url': ['https://lh5.googleusercontent.com/p...</td>\n",
       "      <td>&lt;NA&gt;</td>\n",
       "      <td>0x89c25fc9494dce47:0x6d63c807b59a55</td>\n",
       "      <td>2020-10-23 23:13:15.361</td>\n",
       "    </tr>\n",
       "    <tr>\n",
       "      <th>1</th>\n",
       "      <td>1.072934e+20</td>\n",
       "      <td>Johnnie Jackson</td>\n",
       "      <td>1620157037403</td>\n",
       "      <td>1</td>\n",
       "      <td>Very dissatisfied I did not get my phone the p...</td>\n",
       "      <td>&lt;NA&gt;</td>\n",
       "      <td>{'time': 1620268360920, 'text': 'We pride ours...</td>\n",
       "      <td>0x89c25fc9494dce47:0x6d63c807b59a55</td>\n",
       "      <td>2021-05-04 19:37:17.403</td>\n",
       "    </tr>\n",
       "    <tr>\n",
       "      <th>2</th>\n",
       "      <td>1.003786e+20</td>\n",
       "      <td>Manie Blazer</td>\n",
       "      <td>1597431662039</td>\n",
       "      <td>5</td>\n",
       "      <td>Excellent very well done with professional car...</td>\n",
       "      <td>&lt;NA&gt;</td>\n",
       "      <td>&lt;NA&gt;</td>\n",
       "      <td>0x89c25fc9494dce47:0x6d63c807b59a55</td>\n",
       "      <td>2020-08-14 19:01:02.039</td>\n",
       "    </tr>\n",
       "    <tr>\n",
       "      <th>3</th>\n",
       "      <td>1.149982e+20</td>\n",
       "      <td>Fashion Fiinds</td>\n",
       "      <td>1543773862044</td>\n",
       "      <td>5</td>\n",
       "      <td>Basing my review strictly on the service I rec...</td>\n",
       "      <td>&lt;NA&gt;</td>\n",
       "      <td>{'time': 1543855317372, 'text': 'Thanks for th...</td>\n",
       "      <td>0x89c25fc9494dce47:0x6d63c807b59a55</td>\n",
       "      <td>2018-12-02 18:04:22.044</td>\n",
       "    </tr>\n",
       "    <tr>\n",
       "      <th>4</th>\n",
       "      <td>1.171782e+20</td>\n",
       "      <td>Andres Rieloff</td>\n",
       "      <td>1597279097718</td>\n",
       "      <td>1</td>\n",
       "      <td>Bad! Disorganized. I'm being totally honest. I...</td>\n",
       "      <td>&lt;NA&gt;</td>\n",
       "      <td>&lt;NA&gt;</td>\n",
       "      <td>0x89c25fc9494dce47:0x6d63c807b59a55</td>\n",
       "      <td>2020-08-13 00:38:17.718</td>\n",
       "    </tr>\n",
       "  </tbody>\n",
       "</table>\n",
       "</div>"
      ],
      "text/plain": [
       "        user_id             name           time  rating  \\\n",
       "0  1.137221e+20   Alvin Martinez  1603494795361       5   \n",
       "1  1.072934e+20  Johnnie Jackson  1620157037403       1   \n",
       "2  1.003786e+20     Manie Blazer  1597431662039       5   \n",
       "3  1.149982e+20   Fashion Fiinds  1543773862044       5   \n",
       "4  1.171782e+20   Andres Rieloff  1597279097718       1   \n",
       "\n",
       "                                                text  \\\n",
       "0  I'm late to posting this but this store especi...   \n",
       "1  Very dissatisfied I did not get my phone the p...   \n",
       "2  Excellent very well done with professional car...   \n",
       "3  Basing my review strictly on the service I rec...   \n",
       "4  Bad! Disorganized. I'm being totally honest. I...   \n",
       "\n",
       "                                                pics  \\\n",
       "0  [{'url': ['https://lh5.googleusercontent.com/p...   \n",
       "1                                               <NA>   \n",
       "2                                               <NA>   \n",
       "3                                               <NA>   \n",
       "4                                               <NA>   \n",
       "\n",
       "                                                resp  \\\n",
       "0                                               <NA>   \n",
       "1  {'time': 1620268360920, 'text': 'We pride ours...   \n",
       "2                                               <NA>   \n",
       "3  {'time': 1543855317372, 'text': 'Thanks for th...   \n",
       "4                                               <NA>   \n",
       "\n",
       "                               gmap_id                   fecha  \n",
       "0  0x89c25fc9494dce47:0x6d63c807b59a55 2020-10-23 23:13:15.361  \n",
       "1  0x89c25fc9494dce47:0x6d63c807b59a55 2021-05-04 19:37:17.403  \n",
       "2  0x89c25fc9494dce47:0x6d63c807b59a55 2020-08-14 19:01:02.039  \n",
       "3  0x89c25fc9494dce47:0x6d63c807b59a55 2018-12-02 18:04:22.044  \n",
       "4  0x89c25fc9494dce47:0x6d63c807b59a55 2020-08-13 00:38:17.718  "
      ]
     },
     "execution_count": 17,
     "metadata": {},
     "output_type": "execute_result"
    }
   ],
   "source": [
    "df.head()"
   ]
  },
  {
   "cell_type": "markdown",
   "metadata": {},
   "source": [
    "# Analisis de Rating"
   ]
  },
  {
   "cell_type": "code",
   "execution_count": 18,
   "metadata": {},
   "outputs": [
    {
     "data": {
      "image/png": "[encoded data removed]",
      "text/plain": [
       "<Figure size 640x480 with 1 Axes>"
      ]
     },
     "metadata": {},
     "output_type": "display_data"
    }
   ],
   "source": [
    "sns.boxplot(x='rating', data=df)\n",
    "plt.title('Boxplot del Rating')\n",
    "plt.show()"
   ]
  },
  {
   "cell_type": "code",
   "execution_count": 19,
   "metadata": {},
   "outputs": [
    {
     "data": {
      "image/png": "[encoded data removed]",
      "text/plain": [
       "<Figure size 640x480 with 1 Axes>"
      ]
     },
     "metadata": {},
     "output_type": "display_data"
    }
   ],
   "source": [
    "sns.countplot(x='rating', data=df)\n",
    "plt.title('Distribución de Ratings')\n",
    "plt.xlabel('Rating')\n",
    "plt.ylabel('Cantidad')\n",
    "plt.show()"
   ]
  },
  {
   "cell_type": "code",
   "execution_count": 20,
   "metadata": {},
   "outputs": [
    {
     "name": "stdout",
     "output_type": "stream",
     "text": [
      "        Rating  Cantidad  Porcentaje (%)\n",
      "rating                                  \n",
      "1            1    146946            5.56\n",
      "2            2     79881            3.03\n",
      "3            3    236684            8.96\n",
      "4            4    537794           20.37\n",
      "5            5   1639358           62.08\n"
     ]
    }
   ],
   "source": [
    "# Contar cantidad de cada rating\n",
    "rating_counts = df['rating'].value_counts().sort_index()\n",
    "\n",
    "# Calcular porcentaje\n",
    "rating_percentage = (rating_counts / len(df)) * 100\n",
    "\n",
    "# Crear la tabla combinada\n",
    "tabla_rating = pd.DataFrame({\n",
    "    'Rating': rating_counts.index,\n",
    "    'Cantidad': rating_counts.values,\n",
    "    'Porcentaje (%)': rating_percentage.round(2)\n",
    "})\n",
    "\n",
    "# Mostrar la tabla\n",
    "print(tabla_rating)"
   ]
  },
  {
   "cell_type": "markdown",
   "metadata": {},
   "source": [
    "Análisis:\n",
    "\n",
    "Más del 80% de las reseñas tienen 4 o 5 estrellas → fuerte tendencia positiva.\n",
    "\n",
    "Solo el 8% son críticas negativas (1 o 2 estrellas).\n",
    "\n",
    "El valor más común es 5 estrellas, lo que podría indicar alta satisfacción."
   ]
  },
  {
   "cell_type": "code",
   "execution_count": 21,
   "metadata": {},
   "outputs": [
    {
     "data": {
      "image/png": "[encoded data removed]",
      "text/plain": [
       "<Figure size 640x480 with 1 Axes>"
      ]
     },
     "metadata": {},
     "output_type": "display_data"
    }
   ],
   "source": [
    "df['tiene_resp'] = df['resp'].notna()\n",
    "sns.boxplot(x='tiene_resp', y='rating', data=df)\n",
    "plt.title(\"Rating según si recibió respuesta\")\n",
    "plt.xlabel(\"¿Tiene respuesta del local?\")\n",
    "plt.ylabel(\"Rating\")\n",
    "plt.show()"
   ]
  },
  {
   "cell_type": "markdown",
   "metadata": {},
   "source": [
    "Análisis:\n",
    "\n",
    "No se muestra diferencias en la variacion de rating y la respuesta recibida"
   ]
  },
  {
   "cell_type": "markdown",
   "metadata": {},
   "source": [
    "# Análisis de Review"
   ]
  },
  {
   "cell_type": "code",
   "execution_count": 22,
   "metadata": {},
   "outputs": [
    {
     "data": {
      "image/png": "[encoded data removed]",
      "text/plain": [
       "<Figure size 640x480 with 1 Axes>"
      ]
     },
     "metadata": {},
     "output_type": "display_data"
    }
   ],
   "source": [
    "df['anio'] = df['fecha'].dt.year\n",
    "sns.countplot(x='anio', data=df)\n",
    "plt.title('Cantidad de Reviews por Año')\n",
    "plt.xticks(rotation=45)\n",
    "plt.show()"
   ]
  },
  {
   "cell_type": "code",
   "execution_count": 23,
   "metadata": {},
   "outputs": [
    {
     "name": "stdout",
     "output_type": "stream",
     "text": [
      "     Año  Cantidad de Reviews\n",
      "0   1990                   35\n",
      "1   2000                    1\n",
      "2   2002                   21\n",
      "3   2003                   29\n",
      "4   2004                   70\n",
      "5   2005                  144\n",
      "6   2006                  166\n",
      "7   2007                  148\n",
      "8   2008                  201\n",
      "9   2009                  258\n",
      "10  2010                 1397\n",
      "11  2011                 3755\n",
      "12  2012                 4273\n",
      "13  2013                 7914\n",
      "14  2014                 9022\n",
      "15  2015                23731\n",
      "16  2016               105411\n",
      "17  2017               338266\n",
      "18  2018               611705\n",
      "19  2019               794583\n",
      "20  2020               480011\n",
      "21  2021               259522\n"
     ]
    }
   ],
   "source": [
    "# Asegurate de tener la columna 'anio' creada desde la fecha\n",
    "df['fecha'] = pd.to_datetime(df['time'], unit='ms')\n",
    "df['anio'] = df['fecha'].dt.year\n",
    "\n",
    "# Contar reviews por año\n",
    "reviews_por_anio = df['anio'].value_counts().sort_index()\n",
    "\n",
    "# Crear la tabla\n",
    "tabla_reviews_anio = pd.DataFrame({\n",
    "    'Año': reviews_por_anio.index,\n",
    "    'Cantidad de Reviews': reviews_por_anio.values\n",
    "})\n",
    "\n",
    "# Mostrar la tabla\n",
    "print(tabla_reviews_anio)"
   ]
  },
  {
   "cell_type": "markdown",
   "metadata": {},
   "source": [
    "Análisis:\n",
    "\n",
    "Se muestra un fuerte crecimiento desde 2016, con picos en 2018 y 2019.\n",
    "Máximo en 2019: más de 790.000 reviews.\n",
    "Caída en 2020 y 2021, posiblemente relacionada con la pandemia (COVID-19 afectó la movilidad y el turismo).\n",
    "Antes de 2016, el volumen de reseñas era muy bajo."
   ]
  },
  {
   "cell_type": "code",
   "execution_count": 24,
   "metadata": {},
   "outputs": [
    {
     "name": "stdout",
     "output_type": "stream",
     "text": [
      "Reviews con texto: 1481527 (56.10%)\n",
      "Reviews con fotos: 96734 (3.66%)\n",
      "Reviews con respuesta: 257800 (9.76%)\n"
     ]
    }
   ],
   "source": [
    "total_reviews = len(df)\n",
    "\n",
    "text_count = df['text'].notna().sum()\n",
    "pics_count = df['pics'].notna().sum()\n",
    "resp_count = df['resp'].notna().sum()\n",
    "\n",
    "print(f\"Reviews con texto: {text_count} ({(text_count / total_reviews * 100):.2f}%)\")\n",
    "print(f\"Reviews con fotos: {pics_count} ({(pics_count / total_reviews * 100):.2f}%)\")\n",
    "print(f\"Reviews con respuesta: {resp_count} ({(resp_count / total_reviews * 100):.2f}%)\")"
   ]
  },
  {
   "cell_type": "code",
   "execution_count": 25,
   "metadata": {},
   "outputs": [
    {
     "data": {
      "image/png": "[encoded data removed]",
      "text/plain": [
       "<Figure size 1000x500 with 1 Axes>"
      ]
     },
     "metadata": {},
     "output_type": "display_data"
    }
   ],
   "source": [
    "# Asegurar que las fechas están en formato datetime\n",
    "df['fecha'] = pd.to_datetime(df['time'], unit='ms')\n",
    "df['anio'] = df['fecha'].dt.year\n",
    "df['mes'] = df['fecha'].dt.month\n",
    "\n",
    "# Agrupar por año y mes para contar reviews\n",
    "grupo_anio_mes = df.groupby(['anio', 'mes']).size().reset_index(name='cantidad')\n",
    "\n",
    "# Calcular promedio de reviews por mes (promediado entre años)\n",
    "promedio_por_mes = grupo_anio_mes.groupby('mes')['cantidad'].mean()\n",
    "\n",
    "# Asegurar que estén los 12 meses\n",
    "promedio_por_mes = promedio_por_mes.reindex(range(1, 13), fill_value=0)\n",
    "\n",
    "\n",
    "\n",
    "# Graficar\n",
    "plt.figure(figsize=(10, 5))\n",
    "promedio_por_mes.plot(kind='bar', color='skyblue')\n",
    "plt.title(\"Promedio de reviews por mes (promediado entre años)\")\n",
    "plt.xlabel(\"Mes\")\n",
    "plt.ylabel(\"Promedio de Reviews\")\n",
    "plt.xticks(ticks=range(12), labels=[calendar.month_name[m] for m in range(1, 13)], rotation=45)\n",
    "plt.tight_layout()\n",
    "plt.show()"
   ]
  },
  {
   "cell_type": "code",
   "execution_count": 26,
   "metadata": {},
   "outputs": [
    {
     "name": "stdout",
     "output_type": "stream",
     "text": [
      "          Mes  Promedio de Reviews\n",
      "0     January             12158.37\n",
      "1    February             11593.84\n",
      "2       March             13229.94\n",
      "3       April             10056.68\n",
      "4         May             10826.65\n",
      "5        June             12299.11\n",
      "6        July             13194.72\n",
      "7      August             13374.67\n",
      "8   September             12805.82\n",
      "9     October             11795.61\n",
      "10   November             12096.47\n",
      "11   December             11077.95\n"
     ]
    }
   ],
   "source": [
    "# Crear DataFrame con nombres de mes\n",
    "tabla_reviews_mes = pd.DataFrame({\n",
    "    'Mes': [calendar.month_name[m] for m in promedio_por_mes.index],\n",
    "    'Promedio de Reviews': promedio_por_mes.values.round(2)\n",
    "})\n",
    "\n",
    "# Mostrar la tabla\n",
    "print(tabla_reviews_mes)"
   ]
  },
  {
   "cell_type": "markdown",
   "metadata": {},
   "source": [
    "Análisis:\n",
    "\n",
    "Actividad moderada en todo el año\n",
    "Aunque no hay picos extremos, marzo, julio y aghosto muestran una actividad más fuerte en promedio.\n",
    "\n",
    "Mes más bajo: abril \n",
    "Este mes tienden a tener menos reseñas en comparación con otros. Esto podría deberse a temporada baja de turismo o consumo, condiciones climáticas o feriados que afectan el tráfico de personas.\n",
    "\n",
    "No hay una estacionalidad clara y marcada\n",
    "La diferencia entre los meses no es tan extrema como para pensar en una única temporada fuerte. Es una distribución relativamente estable, pero con altibajos sutiles."
   ]
  }
 ],
 "metadata": {
  "kernelspec": {
   "display_name": "Python 3",
   "language": "python",
   "name": "python3"
  },
  "language_info": {
   "codemirror_mode": {
    "name": "ipython",
    "version": 3
   },
   "file_extension": ".py",
   "mimetype": "text/x-python",
   "name": "python",
   "nbconvert_exporter": "python",
   "pygments_lexer": "ipython3",
   "version": "3.12.3"
  }
 },
 "nbformat": 4,
 "nbformat_minor": 2
}
