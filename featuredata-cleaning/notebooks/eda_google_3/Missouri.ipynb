{
 "cells": [
  {
   "cell_type": "code",
   "execution_count": 2,
   "metadata": {},
   "outputs": [],
   "source": [
    "import pandas as pd\n",
    "import matplotlib.pyplot as plt\n",
    "import seaborn as sns\n",
    "import calendar\n",
    "import glob\n",
    "import os"
   ]
  },
  {
   "cell_type": "code",
   "execution_count": 3,
   "metadata": {},
   "outputs": [],
   "source": [
    "# Ruta de los archivos JSON\n",
    "ruta = r\"C:\\Users\\User\\Desktop\\SOYHENRY\\Trabajo Grupal\\Dataset\\Google\\reviews-estados\\review-Missouri\"\n",
    "\n",
    "# Lista de archivos JSON en la carpeta\n",
    "archivos_json = glob.glob(os.path.join(ruta, \"*.json\"))\n",
    "\n",
    "# Cargar los JSON correctamente\n",
    "df_list = []\n",
    "for archivo in archivos_json:\n",
    "    try:\n",
    "        df_temp = pd.read_json(archivo, lines=True)  # Usa lines=True para JSON línea por línea\n",
    "        df_list.append(df_temp)\n",
    "    except ValueError as e:\n",
    "        print(f\"Error al leer {archivo}: {e}\")\n",
    "\n",
    "# Concatenar los dataframes\n",
    "df = pd.concat(df_list, ignore_index=True)\n"
   ]
  },
  {
   "cell_type": "code",
   "execution_count": 4,
   "metadata": {},
   "outputs": [
    {
     "data": {
      "text/html": [
       "<div>\n",
       "<style scoped>\n",
       "    .dataframe tbody tr th:only-of-type {\n",
       "        vertical-align: middle;\n",
       "    }\n",
       "\n",
       "    .dataframe tbody tr th {\n",
       "        vertical-align: top;\n",
       "    }\n",
       "\n",
       "    .dataframe thead th {\n",
       "        text-align: right;\n",
       "    }\n",
       "</style>\n",
       "<table border=\"1\" class=\"dataframe\">\n",
       "  <thead>\n",
       "    <tr style=\"text-align: right;\">\n",
       "      <th></th>\n",
       "      <th>user_id</th>\n",
       "      <th>name</th>\n",
       "      <th>time</th>\n",
       "      <th>rating</th>\n",
       "      <th>text</th>\n",
       "      <th>pics</th>\n",
       "      <th>resp</th>\n",
       "      <th>gmap_id</th>\n",
       "    </tr>\n",
       "  </thead>\n",
       "  <tbody>\n",
       "    <tr>\n",
       "      <th>0</th>\n",
       "      <td>1.089882e+20</td>\n",
       "      <td>Tracy Reeder</td>\n",
       "      <td>1575932557871</td>\n",
       "      <td>1</td>\n",
       "      <td>This company seems like a great place to work ...</td>\n",
       "      <td>None</td>\n",
       "      <td>None</td>\n",
       "      <td>0x87c87e473635feb5:0x6de42f63fb4ad19b</td>\n",
       "    </tr>\n",
       "    <tr>\n",
       "      <th>1</th>\n",
       "      <td>1.004776e+20</td>\n",
       "      <td>Brett Stevens</td>\n",
       "      <td>1554489896899</td>\n",
       "      <td>5</td>\n",
       "      <td>None</td>\n",
       "      <td>None</td>\n",
       "      <td>None</td>\n",
       "      <td>0x87c87e473635feb5:0x6de42f63fb4ad19b</td>\n",
       "    </tr>\n",
       "    <tr>\n",
       "      <th>2</th>\n",
       "      <td>1.181701e+20</td>\n",
       "      <td>steven williams</td>\n",
       "      <td>1498137347552</td>\n",
       "      <td>5</td>\n",
       "      <td>None</td>\n",
       "      <td>None</td>\n",
       "      <td>None</td>\n",
       "      <td>0x87c87e473635feb5:0x6de42f63fb4ad19b</td>\n",
       "    </tr>\n",
       "    <tr>\n",
       "      <th>3</th>\n",
       "      <td>1.085274e+20</td>\n",
       "      <td>b</td>\n",
       "      <td>1511496601769</td>\n",
       "      <td>5</td>\n",
       "      <td>None</td>\n",
       "      <td>None</td>\n",
       "      <td>None</td>\n",
       "      <td>0x87c87e473635feb5:0x6de42f63fb4ad19b</td>\n",
       "    </tr>\n",
       "    <tr>\n",
       "      <th>4</th>\n",
       "      <td>1.034012e+20</td>\n",
       "      <td>Bekkah said</td>\n",
       "      <td>1505363292500</td>\n",
       "      <td>5</td>\n",
       "      <td>None</td>\n",
       "      <td>None</td>\n",
       "      <td>None</td>\n",
       "      <td>0x87c87e473635feb5:0x6de42f63fb4ad19b</td>\n",
       "    </tr>\n",
       "  </tbody>\n",
       "</table>\n",
       "</div>"
      ],
      "text/plain": [
       "        user_id             name           time  rating  \\\n",
       "0  1.089882e+20     Tracy Reeder  1575932557871       1   \n",
       "1  1.004776e+20    Brett Stevens  1554489896899       5   \n",
       "2  1.181701e+20  steven williams  1498137347552       5   \n",
       "3  1.085274e+20                b  1511496601769       5   \n",
       "4  1.034012e+20      Bekkah said  1505363292500       5   \n",
       "\n",
       "                                                text  pics  resp  \\\n",
       "0  This company seems like a great place to work ...  None  None   \n",
       "1                                               None  None  None   \n",
       "2                                               None  None  None   \n",
       "3                                               None  None  None   \n",
       "4                                               None  None  None   \n",
       "\n",
       "                                 gmap_id  \n",
       "0  0x87c87e473635feb5:0x6de42f63fb4ad19b  \n",
       "1  0x87c87e473635feb5:0x6de42f63fb4ad19b  \n",
       "2  0x87c87e473635feb5:0x6de42f63fb4ad19b  \n",
       "3  0x87c87e473635feb5:0x6de42f63fb4ad19b  \n",
       "4  0x87c87e473635feb5:0x6de42f63fb4ad19b  "
      ]
     },
     "execution_count": 4,
     "metadata": {},
     "output_type": "execute_result"
    }
   ],
   "source": [
    "df.head()"
   ]
  },
  {
   "cell_type": "code",
   "execution_count": 5,
   "metadata": {},
   "outputs": [
    {
     "data": {
      "text/plain": [
       "(1650000, 8)"
      ]
     },
     "execution_count": 5,
     "metadata": {},
     "output_type": "execute_result"
    }
   ],
   "source": [
    "# Cantidad de filas y columnas\n",
    "df.shape"
   ]
  },
  {
   "cell_type": "code",
   "execution_count": 6,
   "metadata": {},
   "outputs": [
    {
     "name": "stdout",
     "output_type": "stream",
     "text": [
      "user_id    float64\n",
      "name        object\n",
      "time         int64\n",
      "rating       int64\n",
      "text        object\n",
      "pics        object\n",
      "resp        object\n",
      "gmap_id     object\n",
      "dtype: object\n"
     ]
    }
   ],
   "source": [
    "# Ver los tipos de datos de cada columna\n",
    "print(df.dtypes)"
   ]
  },
  {
   "cell_type": "code",
   "execution_count": 7,
   "metadata": {},
   "outputs": [
    {
     "data": {
      "text/plain": [
       "Index(['user_id', 'name', 'time', 'rating', 'text', 'pics', 'resp', 'gmap_id'], dtype='object')"
      ]
     },
     "execution_count": 7,
     "metadata": {},
     "output_type": "execute_result"
    }
   ],
   "source": [
    "df.columns"
   ]
  },
  {
   "cell_type": "code",
   "execution_count": 8,
   "metadata": {},
   "outputs": [],
   "source": [
    "# Convertir las columnas  a tipo 'string'\n",
    "for col in df.select_dtypes(include='object').columns:\n",
    "    df[col] = df[col].astype('string')"
   ]
  },
  {
   "cell_type": "code",
   "execution_count": 9,
   "metadata": {},
   "outputs": [
    {
     "data": {
      "text/plain": [
       "29950"
      ]
     },
     "execution_count": 9,
     "metadata": {},
     "output_type": "execute_result"
    }
   ],
   "source": [
    "df.duplicated().sum()"
   ]
  },
  {
   "cell_type": "code",
   "execution_count": 10,
   "metadata": {},
   "outputs": [
    {
     "name": "stdout",
     "output_type": "stream",
     "text": [
      "             user_id                name           time  rating  \\\n",
      "607512  1.000000e+20  Patricia Henderson  1556472911932       3   \n",
      "607559  1.000000e+20  Patricia Henderson  1556472911932       3   \n",
      "577447  1.000017e+20      Heather Hanson  1570326679913       4   \n",
      "577461  1.000017e+20      Heather Hanson  1570326679913       4   \n",
      "705016  1.000017e+20        Teresa Curry  1501116069651       4   \n",
      "...              ...                 ...            ...     ...   \n",
      "876430  1.184427e+20         Scott Goeke  1492868681385       5   \n",
      "564303  1.184442e+20       Marena Stokes  1536586611349       4   \n",
      "564305  1.184442e+20       Marena Stokes  1536586611349       4   \n",
      "785432  1.184446e+20       Jw Mcclanahan  1420487024582       5   \n",
      "785439  1.184446e+20       Jw Mcclanahan  1420487024582       5   \n",
      "\n",
      "                                                     text  pics  resp  \\\n",
      "607512  The receptionist was rude, slow, and seemed to...  <NA>  <NA>   \n",
      "607559  The receptionist was rude, slow, and seemed to...  <NA>  <NA>   \n",
      "577447                          Good food, decent prices.  <NA>  <NA>   \n",
      "577461                          Good food, decent prices.  <NA>  <NA>   \n",
      "705016                                          good food  <NA>  <NA>   \n",
      "...                                                   ...   ...   ...   \n",
      "876430  Great venue for a hockey game. Staff was frien...  <NA>  <NA>   \n",
      "564303              It's cool. But I prefer the Galleria.  <NA>  <NA>   \n",
      "564305              It's cool. But I prefer the Galleria.  <NA>  <NA>   \n",
      "785432  Employees are very friendly the pharmacy is ve...  <NA>  <NA>   \n",
      "785439  Employees are very friendly the pharmacy is ve...  <NA>  <NA>   \n",
      "\n",
      "                                      gmap_id  \n",
      "607512  0x87d8cfdae96f6287:0xc404ca739aeb2e7b  \n",
      "607559  0x87d8cfdae96f6287:0xc404ca739aeb2e7b  \n",
      "577447  0x87cf5db2c3922e67:0x1b1bd1f1f3885c3e  \n",
      "577461  0x87cf5db2c3922e67:0x1b1bd1f1f3885c3e  \n",
      "705016  0x87d7baa2f2cda31b:0xa6fd6062938bb481  \n",
      "...                                       ...  \n",
      "876430  0x87c11d02616c6f71:0xda4bdeea9e82e299  \n",
      "564303  0x87d8cd8669666825:0xdbc2f1534bd476b9  \n",
      "564305  0x87d8cd8669666825:0xdbc2f1534bd476b9  \n",
      "785432   0x87c0e3e0200608ff:0xd708e79b8aaf75f  \n",
      "785439   0x87c0e3e0200608ff:0xd708e79b8aaf75f  \n",
      "\n",
      "[59321 rows x 8 columns]\n"
     ]
    }
   ],
   "source": [
    "# Filas duplicadas\n",
    "duplicadas = df[df.duplicated(keep=False)]\n",
    "\n",
    "# Ordenamos por todas las columnas para que se vean juntas\n",
    "duplicadas = duplicadas.sort_values(by=df.columns.tolist())\n",
    "\n",
    "# Mostramos el resultado\n",
    "print(duplicadas)"
   ]
  },
  {
   "cell_type": "code",
   "execution_count": 11,
   "metadata": {},
   "outputs": [],
   "source": [
    "# Eliminar filas duplicadas\n",
    "df = df.drop_duplicates()"
   ]
  },
  {
   "cell_type": "code",
   "execution_count": 12,
   "metadata": {},
   "outputs": [
    {
     "data": {
      "text/plain": [
       "user_id          0\n",
       "name             0\n",
       "time             0\n",
       "rating           0\n",
       "text        695368\n",
       "pics       1581850\n",
       "resp       1393669\n",
       "gmap_id          0\n",
       "dtype: int64"
      ]
     },
     "execution_count": 12,
     "metadata": {},
     "output_type": "execute_result"
    }
   ],
   "source": [
    "# Verificar la cantidad de valores nulos por columna\n",
    "df.isnull().sum()"
   ]
  },
  {
   "cell_type": "code",
   "execution_count": 13,
   "metadata": {},
   "outputs": [
    {
     "data": {
      "text/plain": [
       "user_id     0.000000\n",
       "name        0.000000\n",
       "time        0.000000\n",
       "rating      0.000000\n",
       "text       42.922626\n",
       "pics       97.642048\n",
       "resp       86.026295\n",
       "gmap_id     0.000000\n",
       "dtype: float64"
      ]
     },
     "execution_count": 13,
     "metadata": {},
     "output_type": "execute_result"
    }
   ],
   "source": [
    "# Porcentaje de valores nulos por columna\n",
    "(df.isnull().mean() * 100)"
   ]
  },
  {
   "cell_type": "code",
   "execution_count": 14,
   "metadata": {},
   "outputs": [
    {
     "data": {
      "text/html": [
       "<div>\n",
       "<style scoped>\n",
       "    .dataframe tbody tr th:only-of-type {\n",
       "        vertical-align: middle;\n",
       "    }\n",
       "\n",
       "    .dataframe tbody tr th {\n",
       "        vertical-align: top;\n",
       "    }\n",
       "\n",
       "    .dataframe thead th {\n",
       "        text-align: right;\n",
       "    }\n",
       "</style>\n",
       "<table border=\"1\" class=\"dataframe\">\n",
       "  <thead>\n",
       "    <tr style=\"text-align: right;\">\n",
       "      <th></th>\n",
       "      <th>user_id</th>\n",
       "      <th>time</th>\n",
       "      <th>rating</th>\n",
       "    </tr>\n",
       "  </thead>\n",
       "  <tbody>\n",
       "    <tr>\n",
       "      <th>count</th>\n",
       "      <td>1.620050e+06</td>\n",
       "      <td>1.620050e+06</td>\n",
       "      <td>1.620050e+06</td>\n",
       "    </tr>\n",
       "    <tr>\n",
       "      <th>mean</th>\n",
       "      <td>1.092477e+20</td>\n",
       "      <td>1.554883e+12</td>\n",
       "      <td>4.329722e+00</td>\n",
       "    </tr>\n",
       "    <tr>\n",
       "      <th>std</th>\n",
       "      <td>5.311231e+18</td>\n",
       "      <td>4.162891e+10</td>\n",
       "      <td>1.098947e+00</td>\n",
       "    </tr>\n",
       "    <tr>\n",
       "      <th>min</th>\n",
       "      <td>1.000000e+20</td>\n",
       "      <td>1.147565e+12</td>\n",
       "      <td>1.000000e+00</td>\n",
       "    </tr>\n",
       "    <tr>\n",
       "      <th>25%</th>\n",
       "      <td>1.046528e+20</td>\n",
       "      <td>1.527354e+12</td>\n",
       "      <td>4.000000e+00</td>\n",
       "    </tr>\n",
       "    <tr>\n",
       "      <th>50%</th>\n",
       "      <td>1.092490e+20</td>\n",
       "      <td>1.557603e+12</td>\n",
       "      <td>5.000000e+00</td>\n",
       "    </tr>\n",
       "    <tr>\n",
       "      <th>75%</th>\n",
       "      <td>1.138524e+20</td>\n",
       "      <td>1.583554e+12</td>\n",
       "      <td>5.000000e+00</td>\n",
       "    </tr>\n",
       "    <tr>\n",
       "      <th>max</th>\n",
       "      <td>1.184467e+20</td>\n",
       "      <td>1.631126e+12</td>\n",
       "      <td>5.000000e+00</td>\n",
       "    </tr>\n",
       "  </tbody>\n",
       "</table>\n",
       "</div>"
      ],
      "text/plain": [
       "            user_id          time        rating\n",
       "count  1.620050e+06  1.620050e+06  1.620050e+06\n",
       "mean   1.092477e+20  1.554883e+12  4.329722e+00\n",
       "std    5.311231e+18  4.162891e+10  1.098947e+00\n",
       "min    1.000000e+20  1.147565e+12  1.000000e+00\n",
       "25%    1.046528e+20  1.527354e+12  4.000000e+00\n",
       "50%    1.092490e+20  1.557603e+12  5.000000e+00\n",
       "75%    1.138524e+20  1.583554e+12  5.000000e+00\n",
       "max    1.184467e+20  1.631126e+12  5.000000e+00"
      ]
     },
     "execution_count": 14,
     "metadata": {},
     "output_type": "execute_result"
    }
   ],
   "source": [
    "# Estadísticas descriptivas para columnas numéricas\n",
    "df.describe() "
   ]
  },
  {
   "cell_type": "code",
   "execution_count": 15,
   "metadata": {},
   "outputs": [
    {
     "name": "stdout",
     "output_type": "stream",
     "text": [
      "Total de outliers detectados: 147245\n"
     ]
    }
   ],
   "source": [
    "outliers = pd.DataFrame()\n",
    "\n",
    "for col in df.select_dtypes(include='number').columns:\n",
    "    Q1 = df[col].quantile(0.25)\n",
    "    Q3 = df[col].quantile(0.75)\n",
    "    IQR = Q3 - Q1\n",
    "    lim_inf = Q1 - 1.5 * IQR\n",
    "    lim_sup = Q3 + 1.5 * IQR\n",
    "    outliers_col = df[(df[col] < lim_inf) | (df[col] > lim_sup)]\n",
    "    outliers = pd.concat([outliers, outliers_col])\n",
    "\n",
    "print(f\"Total de outliers detectados: {len(outliers)}\")"
   ]
  },
  {
   "cell_type": "code",
   "execution_count": 16,
   "metadata": {},
   "outputs": [
    {
     "name": "stdout",
     "output_type": "stream",
     "text": [
      "user_id: 0 outliers\n",
      "time: 12287 outliers\n",
      "rating: 134958 outliers\n"
     ]
    }
   ],
   "source": [
    "# Ver de qué columnas vienen los outliers\n",
    "for col in df.select_dtypes(include='number').columns:\n",
    "    Q1 = df[col].quantile(0.25)\n",
    "    Q3 = df[col].quantile(0.75)\n",
    "    IQR = Q3 - Q1\n",
    "    lim_inf = Q1 - 1.5 * IQR\n",
    "    lim_sup = Q3 + 1.5 * IQR\n",
    "    cantidad = df[(df[col] < lim_inf) | (df[col] > lim_sup)].shape[0]\n",
    "    print(f\"{col}: {cantidad} outliers\")"
   ]
  },
  {
   "cell_type": "code",
   "execution_count": 17,
   "metadata": {},
   "outputs": [
    {
     "name": "stdout",
     "output_type": "stream",
     "text": [
      "\n",
      "Fechas convertidas:\n",
      "             time                   fecha\n",
      "0  1575932557871 2019-12-09 23:02:37.871\n",
      "1  1554489896899 2019-04-05 18:44:56.899\n",
      "2  1498137347552 2017-06-22 13:15:47.552\n",
      "3  1511496601769 2017-11-24 04:10:01.769\n",
      "4  1505363292500 2017-09-14 04:28:12.500\n"
     ]
    }
   ],
   "source": [
    "df['fecha'] = pd.to_datetime(df['time'], unit='ms')\n",
    "print(\"\\nFechas convertidas:\\n\", df[['time', 'fecha']].head())"
   ]
  },
  {
   "cell_type": "code",
   "execution_count": 18,
   "metadata": {},
   "outputs": [
    {
     "data": {
      "text/html": [
       "<div>\n",
       "<style scoped>\n",
       "    .dataframe tbody tr th:only-of-type {\n",
       "        vertical-align: middle;\n",
       "    }\n",
       "\n",
       "    .dataframe tbody tr th {\n",
       "        vertical-align: top;\n",
       "    }\n",
       "\n",
       "    .dataframe thead th {\n",
       "        text-align: right;\n",
       "    }\n",
       "</style>\n",
       "<table border=\"1\" class=\"dataframe\">\n",
       "  <thead>\n",
       "    <tr style=\"text-align: right;\">\n",
       "      <th></th>\n",
       "      <th>user_id</th>\n",
       "      <th>name</th>\n",
       "      <th>time</th>\n",
       "      <th>rating</th>\n",
       "      <th>text</th>\n",
       "      <th>pics</th>\n",
       "      <th>resp</th>\n",
       "      <th>gmap_id</th>\n",
       "      <th>fecha</th>\n",
       "    </tr>\n",
       "  </thead>\n",
       "  <tbody>\n",
       "    <tr>\n",
       "      <th>0</th>\n",
       "      <td>1.089882e+20</td>\n",
       "      <td>Tracy Reeder</td>\n",
       "      <td>1575932557871</td>\n",
       "      <td>1</td>\n",
       "      <td>This company seems like a great place to work ...</td>\n",
       "      <td>&lt;NA&gt;</td>\n",
       "      <td>&lt;NA&gt;</td>\n",
       "      <td>0x87c87e473635feb5:0x6de42f63fb4ad19b</td>\n",
       "      <td>2019-12-09 23:02:37.871</td>\n",
       "    </tr>\n",
       "    <tr>\n",
       "      <th>1</th>\n",
       "      <td>1.004776e+20</td>\n",
       "      <td>Brett Stevens</td>\n",
       "      <td>1554489896899</td>\n",
       "      <td>5</td>\n",
       "      <td>&lt;NA&gt;</td>\n",
       "      <td>&lt;NA&gt;</td>\n",
       "      <td>&lt;NA&gt;</td>\n",
       "      <td>0x87c87e473635feb5:0x6de42f63fb4ad19b</td>\n",
       "      <td>2019-04-05 18:44:56.899</td>\n",
       "    </tr>\n",
       "    <tr>\n",
       "      <th>2</th>\n",
       "      <td>1.181701e+20</td>\n",
       "      <td>steven williams</td>\n",
       "      <td>1498137347552</td>\n",
       "      <td>5</td>\n",
       "      <td>&lt;NA&gt;</td>\n",
       "      <td>&lt;NA&gt;</td>\n",
       "      <td>&lt;NA&gt;</td>\n",
       "      <td>0x87c87e473635feb5:0x6de42f63fb4ad19b</td>\n",
       "      <td>2017-06-22 13:15:47.552</td>\n",
       "    </tr>\n",
       "    <tr>\n",
       "      <th>3</th>\n",
       "      <td>1.085274e+20</td>\n",
       "      <td>b</td>\n",
       "      <td>1511496601769</td>\n",
       "      <td>5</td>\n",
       "      <td>&lt;NA&gt;</td>\n",
       "      <td>&lt;NA&gt;</td>\n",
       "      <td>&lt;NA&gt;</td>\n",
       "      <td>0x87c87e473635feb5:0x6de42f63fb4ad19b</td>\n",
       "      <td>2017-11-24 04:10:01.769</td>\n",
       "    </tr>\n",
       "    <tr>\n",
       "      <th>4</th>\n",
       "      <td>1.034012e+20</td>\n",
       "      <td>Bekkah said</td>\n",
       "      <td>1505363292500</td>\n",
       "      <td>5</td>\n",
       "      <td>&lt;NA&gt;</td>\n",
       "      <td>&lt;NA&gt;</td>\n",
       "      <td>&lt;NA&gt;</td>\n",
       "      <td>0x87c87e473635feb5:0x6de42f63fb4ad19b</td>\n",
       "      <td>2017-09-14 04:28:12.500</td>\n",
       "    </tr>\n",
       "  </tbody>\n",
       "</table>\n",
       "</div>"
      ],
      "text/plain": [
       "        user_id             name           time  rating  \\\n",
       "0  1.089882e+20     Tracy Reeder  1575932557871       1   \n",
       "1  1.004776e+20    Brett Stevens  1554489896899       5   \n",
       "2  1.181701e+20  steven williams  1498137347552       5   \n",
       "3  1.085274e+20                b  1511496601769       5   \n",
       "4  1.034012e+20      Bekkah said  1505363292500       5   \n",
       "\n",
       "                                                text  pics  resp  \\\n",
       "0  This company seems like a great place to work ...  <NA>  <NA>   \n",
       "1                                               <NA>  <NA>  <NA>   \n",
       "2                                               <NA>  <NA>  <NA>   \n",
       "3                                               <NA>  <NA>  <NA>   \n",
       "4                                               <NA>  <NA>  <NA>   \n",
       "\n",
       "                                 gmap_id                   fecha  \n",
       "0  0x87c87e473635feb5:0x6de42f63fb4ad19b 2019-12-09 23:02:37.871  \n",
       "1  0x87c87e473635feb5:0x6de42f63fb4ad19b 2019-04-05 18:44:56.899  \n",
       "2  0x87c87e473635feb5:0x6de42f63fb4ad19b 2017-06-22 13:15:47.552  \n",
       "3  0x87c87e473635feb5:0x6de42f63fb4ad19b 2017-11-24 04:10:01.769  \n",
       "4  0x87c87e473635feb5:0x6de42f63fb4ad19b 2017-09-14 04:28:12.500  "
      ]
     },
     "execution_count": 18,
     "metadata": {},
     "output_type": "execute_result"
    }
   ],
   "source": [
    "df.head()"
   ]
  },
  {
   "cell_type": "markdown",
   "metadata": {},
   "source": [
    "# Analisis de Rating"
   ]
  },
  {
   "cell_type": "code",
   "execution_count": 19,
   "metadata": {},
   "outputs": [
    {
     "data": {
      "image/png": "[encoded data removed]",
      "text/plain": [
       "<Figure size 640x480 with 1 Axes>"
      ]
     },
     "metadata": {},
     "output_type": "display_data"
    }
   ],
   "source": [
    "sns.boxplot(x='rating', data=df)\n",
    "plt.title('Boxplot del Rating')\n",
    "plt.show()"
   ]
  },
  {
   "cell_type": "code",
   "execution_count": 20,
   "metadata": {},
   "outputs": [
    {
     "data": {
      "image/png": "[encoded data removed]",
      "text/plain": [
       "<Figure size 640x480 with 1 Axes>"
      ]
     },
     "metadata": {},
     "output_type": "display_data"
    }
   ],
   "source": [
    "sns.countplot(x='rating', data=df)\n",
    "plt.title('Distribución de Ratings')\n",
    "plt.xlabel('Rating')\n",
    "plt.ylabel('Cantidad')\n",
    "plt.show()"
   ]
  },
  {
   "cell_type": "code",
   "execution_count": 21,
   "metadata": {},
   "outputs": [
    {
     "name": "stdout",
     "output_type": "stream",
     "text": [
      "        Rating  Cantidad  Porcentaje (%)\n",
      "rating                                  \n",
      "1            1     84170            5.20\n",
      "2            2     50788            3.13\n",
      "3            3    141850            8.76\n",
      "4            4    313140           19.33\n",
      "5            5   1030102           63.58\n"
     ]
    }
   ],
   "source": [
    "# Contar cantidad de cada rating\n",
    "rating_counts = df['rating'].value_counts().sort_index()\n",
    "\n",
    "# Calcular porcentaje\n",
    "rating_percentage = (rating_counts / len(df)) * 100\n",
    "\n",
    "# Crear la tabla combinada\n",
    "tabla_rating = pd.DataFrame({\n",
    "    'Rating': rating_counts.index,\n",
    "    'Cantidad': rating_counts.values,\n",
    "    'Porcentaje (%)': rating_percentage.round(2)\n",
    "})\n",
    "\n",
    "# Mostrar la tabla\n",
    "print(tabla_rating)"
   ]
  },
  {
   "cell_type": "markdown",
   "metadata": {},
   "source": [
    "Análisis:\n",
    "\n",
    "Más del 80% de las reseñas tienen 4 o 5 estrellas → fuerte tendencia positiva.\n",
    "\n",
    "Solo el 8% son críticas negativas (1 o 2 estrellas).\n",
    "\n",
    "El valor más común es 5 estrellas, lo que podría indicar alta satisfacción."
   ]
  },
  {
   "cell_type": "code",
   "execution_count": 22,
   "metadata": {},
   "outputs": [
    {
     "data": {
      "image/png": "[encoded data removed]",
      "text/plain": [
       "<Figure size 640x480 with 1 Axes>"
      ]
     },
     "metadata": {},
     "output_type": "display_data"
    }
   ],
   "source": [
    "df['tiene_resp'] = df['resp'].notna()\n",
    "sns.boxplot(x='tiene_resp', y='rating', data=df)\n",
    "plt.title(\"Rating según si recibió respuesta\")\n",
    "plt.xlabel(\"¿Tiene respuesta del local?\")\n",
    "plt.ylabel(\"Rating\")\n",
    "plt.show()"
   ]
  },
  {
   "cell_type": "markdown",
   "metadata": {},
   "source": [
    "Análisis:\n",
    "\n",
    "No se muestra diferencias en la variacion de rating y la respuesta recibida"
   ]
  },
  {
   "cell_type": "markdown",
   "metadata": {},
   "source": [
    "# Análisis de Review"
   ]
  },
  {
   "cell_type": "code",
   "execution_count": 23,
   "metadata": {},
   "outputs": [
    {
     "data": {
      "image/png": "[encoded data removed]",
      "text/plain": [
       "<Figure size 640x480 with 1 Axes>"
      ]
     },
     "metadata": {},
     "output_type": "display_data"
    }
   ],
   "source": [
    "df['anio'] = df['fecha'].dt.year\n",
    "sns.countplot(x='anio', data=df)\n",
    "plt.title('Cantidad de Reviews por Año')\n",
    "plt.xticks(rotation=45)\n",
    "plt.show()"
   ]
  },
  {
   "cell_type": "code",
   "execution_count": 24,
   "metadata": {},
   "outputs": [
    {
     "name": "stdout",
     "output_type": "stream",
     "text": [
      "     Año  Cantidad de Reviews\n",
      "0   2006                    3\n",
      "1   2007                    9\n",
      "2   2008                   14\n",
      "3   2009                   30\n",
      "4   2010                  204\n",
      "5   2011                  897\n",
      "6   2012                 1245\n",
      "7   2013                 1987\n",
      "8   2014                 2985\n",
      "9   2015                 9107\n",
      "10  2016                50858\n",
      "11  2017               206104\n",
      "12  2018               375114\n",
      "13  2019               479328\n",
      "14  2020               321192\n",
      "15  2021               170973\n"
     ]
    }
   ],
   "source": [
    "# Asegurate de tener la columna 'anio' creada desde la fecha\n",
    "df['fecha'] = pd.to_datetime(df['time'], unit='ms')\n",
    "df['anio'] = df['fecha'].dt.year\n",
    "\n",
    "# Contar reviews por año\n",
    "reviews_por_anio = df['anio'].value_counts().sort_index()\n",
    "\n",
    "# Crear la tabla\n",
    "tabla_reviews_anio = pd.DataFrame({\n",
    "    'Año': reviews_por_anio.index,\n",
    "    'Cantidad de Reviews': reviews_por_anio.values\n",
    "})\n",
    "\n",
    "# Mostrar la tabla\n",
    "print(tabla_reviews_anio)"
   ]
  },
  {
   "cell_type": "markdown",
   "metadata": {},
   "source": [
    "Análisis:\n",
    "\n",
    "Se muestra un fuerte crecimiento desde 2016, con picos en 2018 y 2019.\n",
    "Máximo en 2019: más de 470.000 reviews.\n",
    "Caída en 2020 y 2021, posiblemente relacionada con la pandemia (COVID-19 afectó la movilidad y el turismo).\n",
    "Antes de 2016, el volumen de reseñas era muy bajo."
   ]
  },
  {
   "cell_type": "code",
   "execution_count": 25,
   "metadata": {},
   "outputs": [
    {
     "name": "stdout",
     "output_type": "stream",
     "text": [
      "Reviews con texto: 924682 (57.08%)\n",
      "Reviews con fotos: 38200 (2.36%)\n",
      "Reviews con respuesta: 226381 (13.97%)\n"
     ]
    }
   ],
   "source": [
    "total_reviews = len(df)\n",
    "\n",
    "text_count = df['text'].notna().sum()\n",
    "pics_count = df['pics'].notna().sum()\n",
    "resp_count = df['resp'].notna().sum()\n",
    "\n",
    "print(f\"Reviews con texto: {text_count} ({(text_count / total_reviews * 100):.2f}%)\")\n",
    "print(f\"Reviews con fotos: {pics_count} ({(pics_count / total_reviews * 100):.2f}%)\")\n",
    "print(f\"Reviews con respuesta: {resp_count} ({(resp_count / total_reviews * 100):.2f}%)\")"
   ]
  },
  {
   "cell_type": "code",
   "execution_count": 26,
   "metadata": {},
   "outputs": [
    {
     "data": {
      "image/png": "[encoded data removed]",
      "text/plain": [
       "<Figure size 1000x500 with 1 Axes>"
      ]
     },
     "metadata": {},
     "output_type": "display_data"
    }
   ],
   "source": [
    "# Asegurar que las fechas están en formato datetime\n",
    "df['fecha'] = pd.to_datetime(df['time'], unit='ms')\n",
    "df['anio'] = df['fecha'].dt.year\n",
    "df['mes'] = df['fecha'].dt.month\n",
    "\n",
    "# Agrupar por año y mes para contar reviews\n",
    "grupo_anio_mes = df.groupby(['anio', 'mes']).size().reset_index(name='cantidad')\n",
    "\n",
    "# Calcular promedio de reviews por mes (promediado entre años)\n",
    "promedio_por_mes = grupo_anio_mes.groupby('mes')['cantidad'].mean()\n",
    "\n",
    "# Asegurar que estén los 12 meses\n",
    "promedio_por_mes = promedio_por_mes.reindex(range(1, 13), fill_value=0)\n",
    "\n",
    "\n",
    "\n",
    "# Graficar\n",
    "plt.figure(figsize=(10, 5))\n",
    "promedio_por_mes.plot(kind='bar', color='skyblue')\n",
    "plt.title(\"Promedio de reviews por mes (promediado entre años)\")\n",
    "plt.xlabel(\"Mes\")\n",
    "plt.ylabel(\"Promedio de Reviews\")\n",
    "plt.xticks(ticks=range(12), labels=[calendar.month_name[m] for m in range(1, 13)], rotation=45)\n",
    "plt.tight_layout()\n",
    "plt.show()"
   ]
  },
  {
   "cell_type": "code",
   "execution_count": 27,
   "metadata": {},
   "outputs": [
    {
     "name": "stdout",
     "output_type": "stream",
     "text": [
      "          Mes  Promedio de Reviews\n",
      "0     January             10620.00\n",
      "1    February              9561.57\n",
      "2       March             11163.38\n",
      "3       April              8564.57\n",
      "4         May              9132.20\n",
      "5        June             10117.29\n",
      "6        July              9701.47\n",
      "7      August             10265.93\n",
      "8   September              9509.86\n",
      "9     October              9154.00\n",
      "10   November              8600.36\n",
      "11   December             10271.62\n"
     ]
    }
   ],
   "source": [
    "# Crear DataFrame con nombres de mes\n",
    "tabla_reviews_mes = pd.DataFrame({\n",
    "    'Mes': [calendar.month_name[m] for m in promedio_por_mes.index],\n",
    "    'Promedio de Reviews': promedio_por_mes.values.round(2)\n",
    "})\n",
    "\n",
    "# Mostrar la tabla\n",
    "print(tabla_reviews_mes)"
   ]
  },
  {
   "cell_type": "markdown",
   "metadata": {},
   "source": [
    "Análisis:\n",
    "\n",
    "Actividad moderada en todo el año\n",
    "Aunque no hay picos extremos, enero y marzo muestran una actividad más fuerte en promedio.\n",
    "\n",
    "Meses más bajos: abril y septiembre\n",
    "Estos meses tienden a tener menos reseñas en comparación con otros. Esto podría deberse a\n",
    "temporada baja de turismo o consumo, \n",
    "condiciones climáticas o feriados que afectan el tráfico de personas.\n",
    "\n",
    "No hay una estacionalidad clara y marcada\n",
    "La diferencia entre los meses no es tan extrema como para pensar en una única temporada fuerte. Es una distribución relativamente estable, pero con altibajos sutiles."
   ]
  }
 ],
 "metadata": {
  "kernelspec": {
   "display_name": "Python 3",
   "language": "python",
   "name": "python3"
  },
  "language_info": {
   "codemirror_mode": {
    "name": "ipython",
    "version": 3
   },
   "file_extension": ".py",
   "mimetype": "text/x-python",
   "name": "python",
   "nbconvert_exporter": "python",
   "pygments_lexer": "ipython3",
   "version": "3.12.3"
  }
 },
 "nbformat": 4,
 "nbformat_minor": 2
}
