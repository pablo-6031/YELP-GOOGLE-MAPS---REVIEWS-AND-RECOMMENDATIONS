{
 "cells": [
  {
   "cell_type": "code",
   "execution_count": 1,
   "metadata": {},
   "outputs": [],
   "source": [
    "import pandas as pd\n",
    "import matplotlib.pyplot as plt\n",
    "import seaborn as sns\n",
    "import calendar\n",
    "import glob\n",
    "import os"
   ]
  },
  {
   "cell_type": "code",
   "execution_count": 2,
   "metadata": {},
   "outputs": [],
   "source": [
    "# Ruta de los archivos JSON\n",
    "ruta = r\"C:\\Users\\User\\Desktop\\SOYHENRY\\Trabajo Grupal\\Dataset\\Google\\reviews-estados\\review-Nebraska\"\n",
    "\n",
    "# Lista de archivos JSON en la carpeta\n",
    "archivos_json = glob.glob(os.path.join(ruta, \"*.json\"))\n",
    "\n",
    "# Cargar los JSON correctamente\n",
    "df_list = []\n",
    "for archivo in archivos_json:\n",
    "    try:\n",
    "        df_temp = pd.read_json(archivo, lines=True)  # Usa lines=True para JSON línea por línea\n",
    "        df_list.append(df_temp)\n",
    "    except ValueError as e:\n",
    "        print(f\"Error al leer {archivo}: {e}\")\n",
    "\n",
    "# Concatenar los dataframes\n",
    "df = pd.concat(df_list, ignore_index=True)"
   ]
  },
  {
   "cell_type": "code",
   "execution_count": 3,
   "metadata": {},
   "outputs": [
    {
     "data": {
      "text/html": [
       "<div>\n",
       "<style scoped>\n",
       "    .dataframe tbody tr th:only-of-type {\n",
       "        vertical-align: middle;\n",
       "    }\n",
       "\n",
       "    .dataframe tbody tr th {\n",
       "        vertical-align: top;\n",
       "    }\n",
       "\n",
       "    .dataframe thead th {\n",
       "        text-align: right;\n",
       "    }\n",
       "</style>\n",
       "<table border=\"1\" class=\"dataframe\">\n",
       "  <thead>\n",
       "    <tr style=\"text-align: right;\">\n",
       "      <th></th>\n",
       "      <th>user_id</th>\n",
       "      <th>name</th>\n",
       "      <th>time</th>\n",
       "      <th>rating</th>\n",
       "      <th>text</th>\n",
       "      <th>pics</th>\n",
       "      <th>resp</th>\n",
       "      <th>gmap_id</th>\n",
       "    </tr>\n",
       "  </thead>\n",
       "  <tbody>\n",
       "    <tr>\n",
       "      <th>0</th>\n",
       "      <td>1.088468e+20</td>\n",
       "      <td>Dan Grundy</td>\n",
       "      <td>1608331653332</td>\n",
       "      <td>5</td>\n",
       "      <td>For give me for not catching the managers name...</td>\n",
       "      <td>None</td>\n",
       "      <td>None</td>\n",
       "      <td>0x8793f2b4d692a433:0xc4d08ac32475203</td>\n",
       "    </tr>\n",
       "    <tr>\n",
       "      <th>1</th>\n",
       "      <td>1.161914e+20</td>\n",
       "      <td>dominick vacura</td>\n",
       "      <td>1627079809988</td>\n",
       "      <td>5</td>\n",
       "      <td>I've got shades!</td>\n",
       "      <td>None</td>\n",
       "      <td>None</td>\n",
       "      <td>0x8793f2b4d692a433:0xc4d08ac32475203</td>\n",
       "    </tr>\n",
       "    <tr>\n",
       "      <th>2</th>\n",
       "      <td>1.089856e+20</td>\n",
       "      <td>Cody Albers</td>\n",
       "      <td>1533832546055</td>\n",
       "      <td>4</td>\n",
       "      <td>Went here to see if I could get my glasses adj...</td>\n",
       "      <td>None</td>\n",
       "      <td>None</td>\n",
       "      <td>0x8793f2b4d692a433:0xc4d08ac32475203</td>\n",
       "    </tr>\n",
       "    <tr>\n",
       "      <th>3</th>\n",
       "      <td>1.169268e+20</td>\n",
       "      <td>Markus Farmer</td>\n",
       "      <td>1559062491880</td>\n",
       "      <td>5</td>\n",
       "      <td>Very helpful with questions. More Versace plea...</td>\n",
       "      <td>None</td>\n",
       "      <td>None</td>\n",
       "      <td>0x8793f2b4d692a433:0xc4d08ac32475203</td>\n",
       "    </tr>\n",
       "    <tr>\n",
       "      <th>4</th>\n",
       "      <td>1.147214e+20</td>\n",
       "      <td>james spevak</td>\n",
       "      <td>1526077661056</td>\n",
       "      <td>5</td>\n",
       "      <td>Pretty good place to look for sunglasses. But ...</td>\n",
       "      <td>None</td>\n",
       "      <td>None</td>\n",
       "      <td>0x8793f2b4d692a433:0xc4d08ac32475203</td>\n",
       "    </tr>\n",
       "  </tbody>\n",
       "</table>\n",
       "</div>"
      ],
      "text/plain": [
       "        user_id             name           time  rating  \\\n",
       "0  1.088468e+20       Dan Grundy  1608331653332       5   \n",
       "1  1.161914e+20  dominick vacura  1627079809988       5   \n",
       "2  1.089856e+20      Cody Albers  1533832546055       4   \n",
       "3  1.169268e+20    Markus Farmer  1559062491880       5   \n",
       "4  1.147214e+20     james spevak  1526077661056       5   \n",
       "\n",
       "                                                text  pics  resp  \\\n",
       "0  For give me for not catching the managers name...  None  None   \n",
       "1                                   I've got shades!  None  None   \n",
       "2  Went here to see if I could get my glasses adj...  None  None   \n",
       "3  Very helpful with questions. More Versace plea...  None  None   \n",
       "4  Pretty good place to look for sunglasses. But ...  None  None   \n",
       "\n",
       "                                gmap_id  \n",
       "0  0x8793f2b4d692a433:0xc4d08ac32475203  \n",
       "1  0x8793f2b4d692a433:0xc4d08ac32475203  \n",
       "2  0x8793f2b4d692a433:0xc4d08ac32475203  \n",
       "3  0x8793f2b4d692a433:0xc4d08ac32475203  \n",
       "4  0x8793f2b4d692a433:0xc4d08ac32475203  "
      ]
     },
     "execution_count": 3,
     "metadata": {},
     "output_type": "execute_result"
    }
   ],
   "source": [
    "df.head()"
   ]
  },
  {
   "cell_type": "code",
   "execution_count": 4,
   "metadata": {},
   "outputs": [
    {
     "data": {
      "text/plain": [
       "(1817866, 8)"
      ]
     },
     "execution_count": 4,
     "metadata": {},
     "output_type": "execute_result"
    }
   ],
   "source": [
    "# Cantidad de filas y columnas\n",
    "df.shape"
   ]
  },
  {
   "cell_type": "code",
   "execution_count": 5,
   "metadata": {},
   "outputs": [
    {
     "name": "stdout",
     "output_type": "stream",
     "text": [
      "user_id    float64\n",
      "name        object\n",
      "time         int64\n",
      "rating       int64\n",
      "text        object\n",
      "pics        object\n",
      "resp        object\n",
      "gmap_id     object\n",
      "dtype: object\n"
     ]
    }
   ],
   "source": [
    "# Ver los tipos de datos de cada columna\n",
    "print(df.dtypes)"
   ]
  },
  {
   "cell_type": "code",
   "execution_count": 6,
   "metadata": {},
   "outputs": [
    {
     "data": {
      "text/plain": [
       "Index(['user_id', 'name', 'time', 'rating', 'text', 'pics', 'resp', 'gmap_id'], dtype='object')"
      ]
     },
     "execution_count": 6,
     "metadata": {},
     "output_type": "execute_result"
    }
   ],
   "source": [
    "df.columns"
   ]
  },
  {
   "cell_type": "code",
   "execution_count": 7,
   "metadata": {},
   "outputs": [],
   "source": [
    "# Convertir las columnas  a tipo 'string'\n",
    "for col in df.select_dtypes(include='object').columns:\n",
    "    df[col] = df[col].astype('string')"
   ]
  },
  {
   "cell_type": "code",
   "execution_count": 8,
   "metadata": {},
   "outputs": [
    {
     "data": {
      "text/plain": [
       "22312"
      ]
     },
     "execution_count": 8,
     "metadata": {},
     "output_type": "execute_result"
    }
   ],
   "source": [
    "df.duplicated().sum()"
   ]
  },
  {
   "cell_type": "code",
   "execution_count": 9,
   "metadata": {},
   "outputs": [
    {
     "name": "stdout",
     "output_type": "stream",
     "text": [
      "              user_id              name           time  rating  \\\n",
      "102764   1.000006e+20  Siobhan McMullen  1554516888800       5   \n",
      "102777   1.000006e+20  Siobhan McMullen  1554516888800       5   \n",
      "1504943  1.000006e+20  Siobhan McMullen  1554581521817       4   \n",
      "1504948  1.000006e+20  Siobhan McMullen  1554581521817       4   \n",
      "1498442  1.000014e+20      Glenda Evans  1573405523252       5   \n",
      "...               ...               ...            ...     ...   \n",
      "534718   1.184440e+20    Shannon McCool  1539281940291       5   \n",
      "299072   1.184440e+20    Shannon McCool  1548033699445       5   \n",
      "299075   1.184440e+20    Shannon McCool  1548033699445       5   \n",
      "1549501  1.184467e+20      Cullen Scism  1581740504044       1   \n",
      "1549512  1.184467e+20      Cullen Scism  1581740504044       1   \n",
      "\n",
      "                                                      text  pics  resp  \\\n",
      "102764                                    Love this place!  <NA>  <NA>   \n",
      "102777                                    Love this place!  <NA>  <NA>   \n",
      "1504943                                     Amazing store!  <NA>  <NA>   \n",
      "1504948                                     Amazing store!  <NA>  <NA>   \n",
      "1498442                        Great good great atmosphere  <NA>  <NA>   \n",
      "...                                                    ...   ...   ...   \n",
      "534718   Neat place! Went here for the office trivia ND...  <NA>  <NA>   \n",
      "299072   Great food! We stopped here when I father in l...  <NA>  <NA>   \n",
      "299075   Great food! We stopped here when I father in l...  <NA>  <NA>   \n",
      "1549501  Dirty hotel is a ghost town. The only guests a...  <NA>  <NA>   \n",
      "1549512  Dirty hotel is a ghost town. The only guests a...  <NA>  <NA>   \n",
      "\n",
      "                                       gmap_id  \n",
      "102764   0x87938dd1c46ea7bd:0xe141577819449753  \n",
      "102777   0x87938dd1c46ea7bd:0xe141577819449753  \n",
      "1504943  0x8793f35a6ecc2393:0xe4e3085444d109ec  \n",
      "1504948  0x8793f35a6ecc2393:0xe4e3085444d109ec  \n",
      "1498442  0x8796bc4e06393ce3:0xc8edfaf47e7c85d6  \n",
      "...                                        ...  \n",
      "534718   0x87939275f398c5bd:0xfb724873bd669676  \n",
      "299072   0x8794783f2c590a4b:0x8295e5c0a3dde165  \n",
      "299075   0x8794783f2c590a4b:0x8295e5c0a3dde165  \n",
      "1549501  0x8799494eb1f94f3b:0x9e7bce9282a2fd7e  \n",
      "1549512  0x8799494eb1f94f3b:0x9e7bce9282a2fd7e  \n",
      "\n",
      "[44526 rows x 8 columns]\n"
     ]
    }
   ],
   "source": [
    "# Filas duplicadas\n",
    "duplicadas = df[df.duplicated(keep=False)]\n",
    "\n",
    "# Ordenamos por todas las columnas para que se vean juntas\n",
    "duplicadas = duplicadas.sort_values(by=df.columns.tolist())\n",
    "\n",
    "# Mostramos el resultado\n",
    "print(duplicadas)"
   ]
  },
  {
   "cell_type": "code",
   "execution_count": 10,
   "metadata": {},
   "outputs": [],
   "source": [
    "# Eliminar filas duplicadas\n",
    "df = df.drop_duplicates()"
   ]
  },
  {
   "cell_type": "code",
   "execution_count": 11,
   "metadata": {},
   "outputs": [
    {
     "data": {
      "text/plain": [
       "user_id          0\n",
       "name             0\n",
       "time             0\n",
       "rating           0\n",
       "text        869600\n",
       "pics       1761751\n",
       "resp       1589385\n",
       "gmap_id          0\n",
       "dtype: int64"
      ]
     },
     "execution_count": 11,
     "metadata": {},
     "output_type": "execute_result"
    }
   ],
   "source": [
    "# Verificar la cantidad de valores nulos por columna\n",
    "df.isnull().sum()"
   ]
  },
  {
   "cell_type": "code",
   "execution_count": 12,
   "metadata": {},
   "outputs": [
    {
     "data": {
      "text/html": [
       "<div>\n",
       "<style scoped>\n",
       "    .dataframe tbody tr th:only-of-type {\n",
       "        vertical-align: middle;\n",
       "    }\n",
       "\n",
       "    .dataframe tbody tr th {\n",
       "        vertical-align: top;\n",
       "    }\n",
       "\n",
       "    .dataframe thead th {\n",
       "        text-align: right;\n",
       "    }\n",
       "</style>\n",
       "<table border=\"1\" class=\"dataframe\">\n",
       "  <thead>\n",
       "    <tr style=\"text-align: right;\">\n",
       "      <th></th>\n",
       "      <th>user_id</th>\n",
       "      <th>time</th>\n",
       "      <th>rating</th>\n",
       "    </tr>\n",
       "  </thead>\n",
       "  <tbody>\n",
       "    <tr>\n",
       "      <th>count</th>\n",
       "      <td>1.795554e+06</td>\n",
       "      <td>1.795554e+06</td>\n",
       "      <td>1.795554e+06</td>\n",
       "    </tr>\n",
       "    <tr>\n",
       "      <th>mean</th>\n",
       "      <td>1.092155e+20</td>\n",
       "      <td>1.550890e+12</td>\n",
       "      <td>4.287410e+00</td>\n",
       "    </tr>\n",
       "    <tr>\n",
       "      <th>std</th>\n",
       "      <td>5.315366e+18</td>\n",
       "      <td>3.927297e+10</td>\n",
       "      <td>1.054388e+00</td>\n",
       "    </tr>\n",
       "    <tr>\n",
       "      <th>min</th>\n",
       "      <td>1.000004e+20</td>\n",
       "      <td>1.186797e+12</td>\n",
       "      <td>1.000000e+00</td>\n",
       "    </tr>\n",
       "    <tr>\n",
       "      <th>25%</th>\n",
       "      <td>1.046141e+20</td>\n",
       "      <td>1.525009e+12</td>\n",
       "      <td>4.000000e+00</td>\n",
       "    </tr>\n",
       "    <tr>\n",
       "      <th>50%</th>\n",
       "      <td>1.092019e+20</td>\n",
       "      <td>1.553207e+12</td>\n",
       "      <td>5.000000e+00</td>\n",
       "    </tr>\n",
       "    <tr>\n",
       "      <th>75%</th>\n",
       "      <td>1.138593e+20</td>\n",
       "      <td>1.577913e+12</td>\n",
       "      <td>5.000000e+00</td>\n",
       "    </tr>\n",
       "    <tr>\n",
       "      <th>max</th>\n",
       "      <td>1.184467e+20</td>\n",
       "      <td>1.631053e+12</td>\n",
       "      <td>5.000000e+00</td>\n",
       "    </tr>\n",
       "  </tbody>\n",
       "</table>\n",
       "</div>"
      ],
      "text/plain": [
       "            user_id          time        rating\n",
       "count  1.795554e+06  1.795554e+06  1.795554e+06\n",
       "mean   1.092155e+20  1.550890e+12  4.287410e+00\n",
       "std    5.315366e+18  3.927297e+10  1.054388e+00\n",
       "min    1.000004e+20  1.186797e+12  1.000000e+00\n",
       "25%    1.046141e+20  1.525009e+12  4.000000e+00\n",
       "50%    1.092019e+20  1.553207e+12  5.000000e+00\n",
       "75%    1.138593e+20  1.577913e+12  5.000000e+00\n",
       "max    1.184467e+20  1.631053e+12  5.000000e+00"
      ]
     },
     "execution_count": 12,
     "metadata": {},
     "output_type": "execute_result"
    }
   ],
   "source": [
    "# Estadísticas descriptivas para columnas numéricas\n",
    "df.describe() "
   ]
  },
  {
   "cell_type": "code",
   "execution_count": 13,
   "metadata": {},
   "outputs": [
    {
     "name": "stdout",
     "output_type": "stream",
     "text": [
      "Total de outliers detectados: 146072\n"
     ]
    }
   ],
   "source": [
    "outliers = pd.DataFrame()\n",
    "\n",
    "for col in df.select_dtypes(include='number').columns:\n",
    "    Q1 = df[col].quantile(0.25)\n",
    "    Q3 = df[col].quantile(0.75)\n",
    "    IQR = Q3 - Q1\n",
    "    lim_inf = Q1 - 1.5 * IQR\n",
    "    lim_sup = Q3 + 1.5 * IQR\n",
    "    outliers_col = df[(df[col] < lim_inf) | (df[col] > lim_sup)]\n",
    "    outliers = pd.concat([outliers, outliers_col])\n",
    "\n",
    "print(f\"Total de outliers detectados: {len(outliers)}\")"
   ]
  },
  {
   "cell_type": "code",
   "execution_count": 14,
   "metadata": {},
   "outputs": [
    {
     "name": "stdout",
     "output_type": "stream",
     "text": [
      "user_id: 0 outliers\n",
      "time: 10991 outliers\n",
      "rating: 135081 outliers\n"
     ]
    }
   ],
   "source": [
    "# Ver de qué columnas vienen los outliers\n",
    "for col in df.select_dtypes(include='number').columns:\n",
    "    Q1 = df[col].quantile(0.25)\n",
    "    Q3 = df[col].quantile(0.75)\n",
    "    IQR = Q3 - Q1\n",
    "    lim_inf = Q1 - 1.5 * IQR\n",
    "    lim_sup = Q3 + 1.5 * IQR\n",
    "    cantidad = df[(df[col] < lim_inf) | (df[col] > lim_sup)].shape[0]\n",
    "    print(f\"{col}: {cantidad} outliers\")"
   ]
  },
  {
   "cell_type": "code",
   "execution_count": 15,
   "metadata": {},
   "outputs": [
    {
     "name": "stdout",
     "output_type": "stream",
     "text": [
      "\n",
      "Fechas convertidas:\n",
      "             time                   fecha\n",
      "0  1608331653332 2020-12-18 22:47:33.332\n",
      "1  1627079809988 2021-07-23 22:36:49.988\n",
      "2  1533832546055 2018-08-09 16:35:46.055\n",
      "3  1559062491880 2019-05-28 16:54:51.880\n",
      "4  1526077661056 2018-05-11 22:27:41.056\n"
     ]
    }
   ],
   "source": [
    "df['fecha'] = pd.to_datetime(df['time'], unit='ms')\n",
    "print(\"\\nFechas convertidas:\\n\", df[['time', 'fecha']].head())"
   ]
  },
  {
   "cell_type": "code",
   "execution_count": 16,
   "metadata": {},
   "outputs": [
    {
     "data": {
      "text/html": [
       "<div>\n",
       "<style scoped>\n",
       "    .dataframe tbody tr th:only-of-type {\n",
       "        vertical-align: middle;\n",
       "    }\n",
       "\n",
       "    .dataframe tbody tr th {\n",
       "        vertical-align: top;\n",
       "    }\n",
       "\n",
       "    .dataframe thead th {\n",
       "        text-align: right;\n",
       "    }\n",
       "</style>\n",
       "<table border=\"1\" class=\"dataframe\">\n",
       "  <thead>\n",
       "    <tr style=\"text-align: right;\">\n",
       "      <th></th>\n",
       "      <th>user_id</th>\n",
       "      <th>name</th>\n",
       "      <th>time</th>\n",
       "      <th>rating</th>\n",
       "      <th>text</th>\n",
       "      <th>pics</th>\n",
       "      <th>resp</th>\n",
       "      <th>gmap_id</th>\n",
       "      <th>fecha</th>\n",
       "    </tr>\n",
       "  </thead>\n",
       "  <tbody>\n",
       "    <tr>\n",
       "      <th>0</th>\n",
       "      <td>1.088468e+20</td>\n",
       "      <td>Dan Grundy</td>\n",
       "      <td>1608331653332</td>\n",
       "      <td>5</td>\n",
       "      <td>For give me for not catching the managers name...</td>\n",
       "      <td>&lt;NA&gt;</td>\n",
       "      <td>&lt;NA&gt;</td>\n",
       "      <td>0x8793f2b4d692a433:0xc4d08ac32475203</td>\n",
       "      <td>2020-12-18 22:47:33.332</td>\n",
       "    </tr>\n",
       "    <tr>\n",
       "      <th>1</th>\n",
       "      <td>1.161914e+20</td>\n",
       "      <td>dominick vacura</td>\n",
       "      <td>1627079809988</td>\n",
       "      <td>5</td>\n",
       "      <td>I've got shades!</td>\n",
       "      <td>&lt;NA&gt;</td>\n",
       "      <td>&lt;NA&gt;</td>\n",
       "      <td>0x8793f2b4d692a433:0xc4d08ac32475203</td>\n",
       "      <td>2021-07-23 22:36:49.988</td>\n",
       "    </tr>\n",
       "    <tr>\n",
       "      <th>2</th>\n",
       "      <td>1.089856e+20</td>\n",
       "      <td>Cody Albers</td>\n",
       "      <td>1533832546055</td>\n",
       "      <td>4</td>\n",
       "      <td>Went here to see if I could get my glasses adj...</td>\n",
       "      <td>&lt;NA&gt;</td>\n",
       "      <td>&lt;NA&gt;</td>\n",
       "      <td>0x8793f2b4d692a433:0xc4d08ac32475203</td>\n",
       "      <td>2018-08-09 16:35:46.055</td>\n",
       "    </tr>\n",
       "    <tr>\n",
       "      <th>3</th>\n",
       "      <td>1.169268e+20</td>\n",
       "      <td>Markus Farmer</td>\n",
       "      <td>1559062491880</td>\n",
       "      <td>5</td>\n",
       "      <td>Very helpful with questions. More Versace plea...</td>\n",
       "      <td>&lt;NA&gt;</td>\n",
       "      <td>&lt;NA&gt;</td>\n",
       "      <td>0x8793f2b4d692a433:0xc4d08ac32475203</td>\n",
       "      <td>2019-05-28 16:54:51.880</td>\n",
       "    </tr>\n",
       "    <tr>\n",
       "      <th>4</th>\n",
       "      <td>1.147214e+20</td>\n",
       "      <td>james spevak</td>\n",
       "      <td>1526077661056</td>\n",
       "      <td>5</td>\n",
       "      <td>Pretty good place to look for sunglasses. But ...</td>\n",
       "      <td>&lt;NA&gt;</td>\n",
       "      <td>&lt;NA&gt;</td>\n",
       "      <td>0x8793f2b4d692a433:0xc4d08ac32475203</td>\n",
       "      <td>2018-05-11 22:27:41.056</td>\n",
       "    </tr>\n",
       "  </tbody>\n",
       "</table>\n",
       "</div>"
      ],
      "text/plain": [
       "        user_id             name           time  rating  \\\n",
       "0  1.088468e+20       Dan Grundy  1608331653332       5   \n",
       "1  1.161914e+20  dominick vacura  1627079809988       5   \n",
       "2  1.089856e+20      Cody Albers  1533832546055       4   \n",
       "3  1.169268e+20    Markus Farmer  1559062491880       5   \n",
       "4  1.147214e+20     james spevak  1526077661056       5   \n",
       "\n",
       "                                                text  pics  resp  \\\n",
       "0  For give me for not catching the managers name...  <NA>  <NA>   \n",
       "1                                   I've got shades!  <NA>  <NA>   \n",
       "2  Went here to see if I could get my glasses adj...  <NA>  <NA>   \n",
       "3  Very helpful with questions. More Versace plea...  <NA>  <NA>   \n",
       "4  Pretty good place to look for sunglasses. But ...  <NA>  <NA>   \n",
       "\n",
       "                                gmap_id                   fecha  \n",
       "0  0x8793f2b4d692a433:0xc4d08ac32475203 2020-12-18 22:47:33.332  \n",
       "1  0x8793f2b4d692a433:0xc4d08ac32475203 2021-07-23 22:36:49.988  \n",
       "2  0x8793f2b4d692a433:0xc4d08ac32475203 2018-08-09 16:35:46.055  \n",
       "3  0x8793f2b4d692a433:0xc4d08ac32475203 2019-05-28 16:54:51.880  \n",
       "4  0x8793f2b4d692a433:0xc4d08ac32475203 2018-05-11 22:27:41.056  "
      ]
     },
     "execution_count": 16,
     "metadata": {},
     "output_type": "execute_result"
    }
   ],
   "source": [
    "df.head()"
   ]
  },
  {
   "cell_type": "markdown",
   "metadata": {},
   "source": [
    "# Analisis de Rating"
   ]
  },
  {
   "cell_type": "code",
   "execution_count": 17,
   "metadata": {},
   "outputs": [
    {
     "data": {
      "image/png": "[encoded data removed]",
      "text/plain": [
       "<Figure size 640x480 with 1 Axes>"
      ]
     },
     "metadata": {},
     "output_type": "display_data"
    }
   ],
   "source": [
    "sns.boxplot(x='rating', data=df)\n",
    "plt.title('Boxplot del Rating')\n",
    "plt.show()"
   ]
  },
  {
   "cell_type": "code",
   "execution_count": 18,
   "metadata": {},
   "outputs": [
    {
     "data": {
      "image/png": "[encoded data removed]",
      "text/plain": [
       "<Figure size 640x480 with 1 Axes>"
      ]
     },
     "metadata": {},
     "output_type": "display_data"
    }
   ],
   "source": [
    "sns.countplot(x='rating', data=df)\n",
    "plt.title('Distribución de Ratings')\n",
    "plt.xlabel('Rating')\n",
    "plt.ylabel('Cantidad')\n",
    "plt.show()"
   ]
  },
  {
   "cell_type": "code",
   "execution_count": 19,
   "metadata": {},
   "outputs": [
    {
     "name": "stdout",
     "output_type": "stream",
     "text": [
      "        Rating  Cantidad  Porcentaje (%)\n",
      "rating                                  \n",
      "1            1     74463            4.15\n",
      "2            2     60618            3.38\n",
      "3            3    185586           10.34\n",
      "4            4    428615           23.87\n",
      "5            5   1046272           58.27\n"
     ]
    }
   ],
   "source": [
    "# Contar cantidad de cada rating\n",
    "rating_counts = df['rating'].value_counts().sort_index()\n",
    "\n",
    "# Calcular porcentaje\n",
    "rating_percentage = (rating_counts / len(df)) * 100\n",
    "\n",
    "# Crear la tabla combinada\n",
    "tabla_rating = pd.DataFrame({\n",
    "    'Rating': rating_counts.index,\n",
    "    'Cantidad': rating_counts.values,\n",
    "    'Porcentaje (%)': rating_percentage.round(2)\n",
    "})\n",
    "\n",
    "# Mostrar la tabla\n",
    "print(tabla_rating)"
   ]
  },
  {
   "cell_type": "markdown",
   "metadata": {},
   "source": [
    "Análisis:\n",
    "\n",
    "Más del 80% de las reseñas tienen 4 o 5 estrellas → fuerte tendencia positiva.\n",
    "\n",
    "Solo el 7% son críticas negativas (1 o 2 estrellas).\n",
    "\n",
    "El valor más común es 5 estrellas, lo que podría indicar alta satisfacción."
   ]
  },
  {
   "cell_type": "code",
   "execution_count": 20,
   "metadata": {},
   "outputs": [
    {
     "data": {
      "image/png": "[encoded data removed]",
      "text/plain": [
       "<Figure size 640x480 with 1 Axes>"
      ]
     },
     "metadata": {},
     "output_type": "display_data"
    }
   ],
   "source": [
    "df['tiene_resp'] = df['resp'].notna()\n",
    "sns.boxplot(x='tiene_resp', y='rating', data=df)\n",
    "plt.title(\"Rating según si recibió respuesta\")\n",
    "plt.xlabel(\"¿Tiene respuesta del local?\")\n",
    "plt.ylabel(\"Rating\")\n",
    "plt.show()"
   ]
  },
  {
   "cell_type": "markdown",
   "metadata": {},
   "source": [
    "Análisis:\n",
    "\n",
    "No se muestra diferencias en la variacion de rating y la respuesta recibida"
   ]
  },
  {
   "cell_type": "markdown",
   "metadata": {},
   "source": [
    "# Análisis de Review"
   ]
  },
  {
   "cell_type": "code",
   "execution_count": 21,
   "metadata": {},
   "outputs": [
    {
     "data": {
      "image/png": "[encoded data removed]",
      "text/plain": [
       "<Figure size 640x480 with 1 Axes>"
      ]
     },
     "metadata": {},
     "output_type": "display_data"
    }
   ],
   "source": [
    "df['anio'] = df['fecha'].dt.year\n",
    "sns.countplot(x='anio', data=df)\n",
    "plt.title('Cantidad de Reviews por Año')\n",
    "plt.xticks(rotation=45)\n",
    "plt.show()"
   ]
  },
  {
   "cell_type": "code",
   "execution_count": 22,
   "metadata": {},
   "outputs": [
    {
     "name": "stdout",
     "output_type": "stream",
     "text": [
      "     Año  Cantidad de Reviews\n",
      "0   2007                   11\n",
      "1   2008                    8\n",
      "2   2009                   28\n",
      "3   2010                  496\n",
      "4   2011                 1018\n",
      "5   2012                 1205\n",
      "6   2013                 1663\n",
      "7   2014                 2204\n",
      "8   2015                 7973\n",
      "9   2016                56901\n",
      "10  2017               243035\n",
      "11  2018               468168\n",
      "12  2019               562847\n",
      "13  2020               321218\n",
      "14  2021               128779\n"
     ]
    }
   ],
   "source": [
    "# Asegurate de tener la columna 'anio' creada desde la fecha\n",
    "df['fecha'] = pd.to_datetime(df['time'], unit='ms')\n",
    "df['anio'] = df['fecha'].dt.year\n",
    "\n",
    "# Contar reviews por año\n",
    "reviews_por_anio = df['anio'].value_counts().sort_index()\n",
    "\n",
    "# Crear la tabla\n",
    "tabla_reviews_anio = pd.DataFrame({\n",
    "    'Año': reviews_por_anio.index,\n",
    "    'Cantidad de Reviews': reviews_por_anio.values\n",
    "})\n",
    "\n",
    "# Mostrar la tabla\n",
    "print(tabla_reviews_anio)"
   ]
  },
  {
   "cell_type": "markdown",
   "metadata": {},
   "source": [
    "Análisis:\n",
    "\n",
    "Se muestra un fuerte crecimiento desde 2016, con picos en 2018 y 2019.\n",
    "Máximo en 2019: más de 560.000 reviews.\n",
    "Caída en 2020 y 2021, posiblemente relacionada con la pandemia (COVID-19 afectó la movilidad y el turismo).\n",
    "Antes de 2016, el volumen de reseñas era muy bajo."
   ]
  },
  {
   "cell_type": "code",
   "execution_count": 23,
   "metadata": {},
   "outputs": [
    {
     "name": "stdout",
     "output_type": "stream",
     "text": [
      "Reviews con texto: 925954 (51.57%)\n",
      "Reviews con fotos: 33803 (1.88%)\n",
      "Reviews con respuesta: 206169 (11.48%)\n"
     ]
    }
   ],
   "source": [
    "total_reviews = len(df)\n",
    "\n",
    "text_count = df['text'].notna().sum()\n",
    "pics_count = df['pics'].notna().sum()\n",
    "resp_count = df['resp'].notna().sum()\n",
    "\n",
    "print(f\"Reviews con texto: {text_count} ({(text_count / total_reviews * 100):.2f}%)\")\n",
    "print(f\"Reviews con fotos: {pics_count} ({(pics_count / total_reviews * 100):.2f}%)\")\n",
    "print(f\"Reviews con respuesta: {resp_count} ({(resp_count / total_reviews * 100):.2f}%)\")"
   ]
  },
  {
   "cell_type": "code",
   "execution_count": 24,
   "metadata": {},
   "outputs": [
    {
     "data": {
      "image/png": "[encoded data removed]",
      "text/plain": [
       "<Figure size 1000x500 with 1 Axes>"
      ]
     },
     "metadata": {},
     "output_type": "display_data"
    }
   ],
   "source": [
    "# Asegurar que las fechas están en formato datetime\n",
    "df['fecha'] = pd.to_datetime(df['time'], unit='ms')\n",
    "df['anio'] = df['fecha'].dt.year\n",
    "df['mes'] = df['fecha'].dt.month\n",
    "\n",
    "# Agrupar por año y mes para contar reviews\n",
    "grupo_anio_mes = df.groupby(['anio', 'mes']).size().reset_index(name='cantidad')\n",
    "\n",
    "# Calcular promedio de reviews por mes (promediado entre años)\n",
    "promedio_por_mes = grupo_anio_mes.groupby('mes')['cantidad'].mean()\n",
    "\n",
    "# Asegurar que estén los 12 meses\n",
    "promedio_por_mes = promedio_por_mes.reindex(range(1, 13), fill_value=0)\n",
    "\n",
    "\n",
    "\n",
    "# Graficar\n",
    "plt.figure(figsize=(10, 5))\n",
    "promedio_por_mes.plot(kind='bar', color='skyblue')\n",
    "plt.title(\"Promedio de reviews por mes (promediado entre años)\")\n",
    "plt.xlabel(\"Mes\")\n",
    "plt.ylabel(\"Promedio de Reviews\")\n",
    "plt.xticks(ticks=range(12), labels=[calendar.month_name[m] for m in range(1, 13)], rotation=45)\n",
    "plt.tight_layout()\n",
    "plt.show()"
   ]
  },
  {
   "cell_type": "code",
   "execution_count": 25,
   "metadata": {},
   "outputs": [
    {
     "name": "stdout",
     "output_type": "stream",
     "text": [
      "          Mes  Promedio de Reviews\n",
      "0     January             12516.23\n",
      "1    February             12072.69\n",
      "2       March             12468.15\n",
      "3       April              9260.07\n",
      "4         May             10171.46\n",
      "5        June             11717.31\n",
      "6        July             11963.43\n",
      "7      August             10682.60\n",
      "8   September             11349.23\n",
      "9     October             10536.08\n",
      "10   November             11442.33\n",
      "11   December             11544.08\n"
     ]
    }
   ],
   "source": [
    "# Crear DataFrame con nombres de mes\n",
    "tabla_reviews_mes = pd.DataFrame({\n",
    "    'Mes': [calendar.month_name[m] for m in promedio_por_mes.index],\n",
    "    'Promedio de Reviews': promedio_por_mes.values.round(2)\n",
    "})\n",
    "\n",
    "# Mostrar la tabla\n",
    "print(tabla_reviews_mes)"
   ]
  },
  {
   "cell_type": "markdown",
   "metadata": {},
   "source": [
    "Análisis:\n",
    "\n",
    "Actividad moderada en todo el año\n",
    "Aunque no hay picos extremos, enero y marzo muestran una actividad más fuerte en promedio.\n",
    "\n",
    "Mes más bajo: abril \n",
    "Este mes tienden a tener menos reseñas en comparación con otros. Esto podría deberse a temporada baja de turismo o consumo, condiciones climáticas o feriados que afectan el tráfico de personas.\n",
    "\n",
    "No hay una estacionalidad clara y marcada\n",
    "La diferencia entre los meses no es tan extrema como para pensar en una única temporada fuerte. Es una distribución relativamente estable, pero con altibajos sutiles."
   ]
  }
 ],
 "metadata": {
  "kernelspec": {
   "display_name": "Python 3",
   "language": "python",
   "name": "python3"
  },
  "language_info": {
   "codemirror_mode": {
    "name": "ipython",
    "version": 3
   },
   "file_extension": ".py",
   "mimetype": "text/x-python",
   "name": "python",
   "nbconvert_exporter": "python",
   "pygments_lexer": "ipython3",
   "version": "3.12.3"
  }
 },
 "nbformat": 4,
 "nbformat_minor": 2
}
