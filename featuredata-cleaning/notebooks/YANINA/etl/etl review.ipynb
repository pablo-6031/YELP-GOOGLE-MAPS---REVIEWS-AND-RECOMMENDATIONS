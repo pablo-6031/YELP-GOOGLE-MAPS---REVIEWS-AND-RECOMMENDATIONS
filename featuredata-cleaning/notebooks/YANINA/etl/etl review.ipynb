{
 "cells": [
  {
   "cell_type": "code",
   "execution_count": null,
   "metadata": {},
   "outputs": [],
   "source": [
    "\n"
   ]
  },
  {
   "cell_type": "code",
   "execution_count": null,
   "metadata": {},
   "outputs": [
    {
     "name": "stdout",
     "output_type": "stream",
     "text": [
      "                review_id                 user_id             business_id  \\\n",
      "0  KU_O5udG6zpxOg-VcAEodg  mh_-emz6k5rlwhzyisbhwa  xqfwvwdr-v0zs3_cbbe5xw   \n",
      "1  BiTunyQ73aT9WBnpR9DZGw  oyogae7okpv6sygzt5g77q  7atyjtigm3jult4um3iypq   \n",
      "2  saUsX_uimxRlCVr67Z4Jig  8g_imtfsiwikvnbp2etr0a  yjuwppi6hxg530lwp-fb2a   \n",
      "3  AqPFMleE6RsU23_auESxiA  _7bhui9uuf5__hhc_q8guq  kxx2soes4o-d3zqbkimrfa   \n",
      "4  Sx8TMOWLNuJBWer-0pcmoA  bcjbae6ddog4jkny91nclq  e4vwtrqf-wpjfwesgvdgxq   \n",
      "\n",
      "   stars  useful  funny  cool  \\\n",
      "0      3       0      0     0   \n",
      "1      5       1      0     1   \n",
      "2      3       0      0     0   \n",
      "3      5       1      0     1   \n",
      "4      4       1      0     1   \n",
      "\n",
      "                                                text                date  \\\n",
      "0  If you decide to eat here, just be aware it is... 2018-07-07 22:09:11   \n",
      "1  I've taken a lot of spin classes over the year... 2012-01-03 15:28:18   \n",
      "2  Family diner. Had the buffet. Eclectic assortm... 2014-02-05 20:30:30   \n",
      "3  Wow!  Yummy, different,  delicious.   Our favo... 2015-01-04 00:01:03   \n",
      "4  Cute interior and owner (?) gave us tour of up... 2017-01-14 20:54:15   \n",
      "\n",
      "   year  month  day_of_week  day  hour  \n",
      "0  2018      7            5    7    22  \n",
      "1  2012      1            1    3    15  \n",
      "2  2014      2            2    5    20  \n",
      "3  2015      1            6    4     0  \n",
      "4  2017      1            5   14    20  \n"
     ]
    }
   ],
   "source": []
  },
  {
   "cell_type": "code",
   "execution_count": null,
   "metadata": {},
   "outputs": [
    {
     "name": "stdout",
     "output_type": "stream",
     "text": [
      "Dimensiones del DataFrame: 6990280 filas y 14 columnas\n"
     ]
    }
   ],
   "source": [
    "import pandas as pd\n",
    "\n",
    "# Definir el tamaño de los chunks\n",
    "chunk_size = 10000  # Ajusta según la capacidad de tu sistema\n",
    "\n",
    "# Ruta del archivo JSON\n",
    "file_path = r\"C:\\Users\\yanin\\OneDrive\\Desktop\\etl\\data_lake\\raw\\yelp\\review.json\"\n",
    "\n",
    "# Inicializar una lista para almacenar los DataFrames procesados\n",
    "df_list = []\n",
    "\n",
    "# Leer el archivo en chunks y procesar cada uno\n",
    "for chunk in pd.read_json(file_path, lines=True, chunksize=chunk_size):\n",
    "    # Convertir tipos de datos\n",
    "    chunk = chunk.astype({\n",
    "        'review_id': 'string',\n",
    "        'user_id': 'string',\n",
    "        'business_id': 'string',\n",
    "        'stars': 'int',\n",
    "        'date': 'datetime64[ns]',\n",
    "        'useful': 'int',\n",
    "        'funny': 'int',\n",
    "        'cool': 'int'\n",
    "    })\n",
    "\n",
    "    # Crear columnas adicionales a partir de la fecha\n",
    "    chunk['year'] = chunk['date'].dt.year\n",
    "    chunk['month'] = chunk['date'].dt.month\n",
    "    chunk['day_of_week'] = chunk['date'].dt.dayofweek\n",
    "    chunk['day'] = chunk['date'].dt.day\n",
    "    chunk['hour'] = chunk['date'].dt.hour\n",
    "\n",
    "    # Filtrar reseñas con estrellas fuera de rango\n",
    "    chunk = chunk[chunk['stars'].between(1, 5)]\n",
    "\n",
    "    # Normalizar las columnas de ID\n",
    "    chunk['user_id'] = chunk['user_id'].str.strip().str.lower()\n",
    "    chunk['business_id'] = chunk['business_id'].str.strip().str.lower()\n",
    "\n",
    "    # Agregar el chunk procesado a la lista\n",
    "    df_list.append(chunk)\n",
    "\n",
    "# Concatenar todos los chunks en un único DataFrame\n",
    "df_reviews = pd.concat(df_list, ignore_index=True)\n",
    "\n",
    "\n",
    "# Mostrar las primeras filas del DataFrame\n",
    "print(df_reviews.head())\n",
    "\n",
    "# Mostrar información general del DataFrame\n",
    "print(df_reviews.info())\n",
    "# Contar valores nulos por columna\n",
    "null_counts = df_reviews.isnull().sum()\n",
    "print(\"Valores nulos por columna:\")\n",
    "print(null_counts)\n",
    "\n",
    "# Contar filas duplicadas\n",
    "duplicate_counts = df_reviews.duplicated().sum()\n",
    "print(f\"Cantidad de filas duplicadas: {duplicate_counts}\")\n",
    "# Obtener dimensiones del DataFrame\n",
    "shape = df_reviews.shape\n",
    "print(f\"Dimensiones del DataFrame: {shape[0]} filas y {shape[1]} columnas\")\n",
    " #Guardar el DataFrame en formato Parquet\n",
    "output_path = r\"C:\\Users\\yanin\\OneDrive\\Desktop\\proyecto final\\archivos\\yelp\\reviews_processed.parquet\"\n",
    "df_reviews.to_parquet(output_path, engine='pyarrow', compression='snappy')\n",
    "\n",
    "print(f\"Archivo guardado como Parquet en: {output_path}\")"
   ]
  },
  {
   "cell_type": "code",
   "execution_count": null,
   "metadata": {},
   "outputs": [],
   "source": []
  }
 ],
 "metadata": {
  "kernelspec": {
   "display_name": "Python 3",
   "language": "python",
   "name": "python3"
  },
  "language_info": {
   "codemirror_mode": {
    "name": "ipython",
    "version": 3
   },
   "file_extension": ".py",
   "mimetype": "text/x-python",
   "name": "python",
   "nbconvert_exporter": "python",
   "pygments_lexer": "ipython3",
   "version": "3.12.3"
  }
 },
 "nbformat": 4,
 "nbformat_minor": 2
}
