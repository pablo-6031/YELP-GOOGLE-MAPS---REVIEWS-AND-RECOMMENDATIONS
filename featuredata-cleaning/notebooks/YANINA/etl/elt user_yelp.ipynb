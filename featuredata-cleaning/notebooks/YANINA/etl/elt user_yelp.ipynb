{
 "cells": [
  {
   "cell_type": "code",
   "execution_count": null,
   "metadata": {},
   "outputs": [
    {
     "name": "stdout",
     "output_type": "stream",
     "text": [
      "✅ El archivo user.parquet existe.\n",
      "                  user_id    name  review_count        yelping_since  useful  \\\n",
      "0  qVc8ODYU5SZjKXVBgXdI7w  Walker           585  2007-01-25 16:47:26    7217   \n",
      "1  j14WgRoU_-2ZE1aw1dXrJg  Daniel          4333  2009-01-25 04:35:42   43091   \n",
      "2  2WnXYQFK0hXEoTxPtV2zvg   Steph           665  2008-07-25 10:41:00    2086   \n",
      "3  SZDeASXq7o05mMNLshsdIA    Gwen           224  2005-11-29 04:38:33     512   \n",
      "4  hA5lMy-EnncsH4JoR-hFGQ   Karen            79  2007-01-05 19:40:59      29   \n",
      "\n",
      "   funny   cool                                              elite  \\\n",
      "0   1259   5994                                               2007   \n",
      "1  13066  27281  2009,2010,2011,2012,2013,2014,2015,2016,2017,2...   \n",
      "2   1010   1003                           2009,2010,2011,2012,2013   \n",
      "3    330    299                                     2009,2010,2011   \n",
      "4     15      7                                                      \n",
      "\n",
      "                                             friends  fans  ...  \\\n",
      "0  NSCy54eWehBJyZdG2iE84w, pe42u7DcCH2QmI81NX-8qA...   267  ...   \n",
      "1  ueRPE0CX75ePGMqOFVj6IQ, 52oH4DrRvzzl8wh5UXyU0A...  3138  ...   \n",
      "2  LuO3Bn4f3rlhyHIaNfTlnA, j9B4XdHUhDfTKVecyWQgyA...    52  ...   \n",
      "3  enx1vVPnfdNUdPho6PH_wg, 4wOcvMLtU6a9Lslggq74Vg...    28  ...   \n",
      "4  PBK4q9KEEBHhFvSXCUirIw, 3FWPpM7KU1gXeOM_ZbYMbA...     1  ...   \n",
      "\n",
      "   compliment_more  compliment_profile  compliment_cute  compliment_list  \\\n",
      "0               65                  55               56               18   \n",
      "1              264                 184              157              251   \n",
      "2               13                  10               17                3   \n",
      "3                4                   1                6                2   \n",
      "4                1                   0                0                0   \n",
      "\n",
      "   compliment_note  compliment_plain  compliment_cool  compliment_funny  \\\n",
      "0              232               844              467               467   \n",
      "1             1847              7054             3131              3131   \n",
      "2               66                96              119               119   \n",
      "3               12                16               26                26   \n",
      "4                1                 1                0                 0   \n",
      "\n",
      "   compliment_writer  compliment_photos  \n",
      "0                239                180  \n",
      "1               1521               1946  \n",
      "2                 35                 18  \n",
      "3                 10                  9  \n",
      "4                  0                  0  \n",
      "\n",
      "[5 rows x 22 columns]\n"
     ]
    }
   ],
   "source": [
    "\n"
   ]
  },
  {
   "cell_type": "code",
   "execution_count": null,
   "metadata": {},
   "outputs": [
    {
     "name": "stdout",
     "output_type": "stream",
     "text": [
      "\n",
      "🔹 Información después de eliminar columnas innecesarias:\n",
      "<class 'pandas.core.frame.DataFrame'>\n",
      "Index: 1987897 entries, 0 to 1987896\n",
      "Data columns (total 10 columns):\n",
      " #   Column         Dtype         \n",
      "---  ------         -----         \n",
      " 0   user_id        string        \n",
      " 1   name           string        \n",
      " 2   review_count   int64         \n",
      " 3   yelping_since  datetime64[ns]\n",
      " 4   useful         int64         \n",
      " 5   funny          int64         \n",
      " 6   cool           int64         \n",
      " 7   elite          object        \n",
      " 8   fans           int64         \n",
      " 9   average_stars  float64       \n",
      "dtypes: datetime64[ns](1), float64(1), int64(5), object(1), string(2)\n",
      "memory usage: 166.8+ MB\n",
      "None\n"
     ]
    }
   ],
   "source": [
    "import os\n",
    "import pandas as pd\n",
    "\n",
    "# Ruta del archivo\n",
    "df_users_path = r\"C:\\Users\\yanin\\OneDrive\\Desktop\\proyecto final\\archivos\\yelp\\user.parquet\"\n",
    "\n",
    "# Verificar si el archivo existe\n",
    "if os.path.exists(df_users_path):\n",
    "    print(\"✅ El archivo user.parquet existe.\")\n",
    "    \n",
    "    # Cargar el archivo en un DataFrame\n",
    "    df_users = pd.read_parquet(df_users_path)\n",
    "    \n",
    "    # Mostrar las primeras filas\n",
    "    print(df_users.head())\n",
    "else:\n",
    "    print(\"❌ El archivo user.parquet no fue encontrado. Verifica si fue guardado correctamente.\")\n",
    "# Verificar valores nulos\n",
    "print(df_users.isnull().sum())\n",
    "   # Información general del DataFrame\n",
    "print(\"\\n🔹 Información del DataFrame:\")\n",
    "print(df_users.dtypes)\n",
    "# Eliminar registros con datos faltantes\n",
    "df_users.dropna(inplace=True)\n",
    "# Eliminar duplicados\n",
    "df_users.drop_duplicates(inplace=True)\n",
    "# Normalizar nombres\n",
    "df_users[\"name\"] = df_users[\"name\"].str.lower().str.strip()\n",
    "\n",
    "\n",
    "# Convertir tipos de datos\n",
    "df_users = df_users.astype({\"user_id\": \"string\", \"name\": \"string\"})\n",
    "# Convertir la fecha a tipo datetime\n",
    "df_users[\"yelping_since\"] = pd.to_datetime(df_users[\"yelping_since\"], errors=\"coerce\")\n",
    "   # Información general del DataFrame\n",
    "print(\"\\n🔹 Información del DataFrame:\")\n",
    "print(df_users.dtypes)\n",
    "\n",
    "print(df_users.info())\n",
    "print(df_users.describe(include='all'))\n",
    "print(\"📏 Dimensiones del DataFrame:\", df_users.shape)\n",
    "most_reviews = df_users.sort_values(by=\"review_count\", ascending=False).head()\n",
    "# Eliminar columnas innecesarias\n",
    "columnas_a_eliminar = [\n",
    "        \"compliment_hot\", \"compliment_more\", \"compliment_profile\", \"compliment_cute\",\n",
    "        \"compliment_list\", \"compliment_note\", \"compliment_plain\", \"compliment_cool\",\n",
    "        \"compliment_funny\", \"compliment_writer\", \"compliment_photos\", \"friends\"\n",
    "    ]\n",
    "df_users = df_users.drop(columns=columnas_a_eliminar, errors='ignore')\n",
    "\n",
    "    # Mostrar información del DataFrame después de eliminar columnas\n",
    "print(\"\\n🔹 Información después de eliminar columnas innecesarias:\")\n",
    "print(df_users.info())# Guardar en formato Parquet con compresión Snappy\n",
    "output_path = \"users_clean.parquet\"\n",
    "df_users.to_parquet(output_path, engine=\"pyarrow\", compression=\"snappy\")\n",
    "print(\"✅ Archivo guardado en:\", output_path)\n"
   ]
  },
  {
   "cell_type": "code",
   "execution_count": 28,
   "metadata": {},
   "outputs": [
    {
     "name": "stdout",
     "output_type": "stream",
     "text": [
      "✅ Archivo guardado en: users_clean.parquet\n"
     ]
    }
   ],
   "source": [
    "# Guardar en formato Parquet con compresión Snappy\n",
    "output_path = \"users_clean.parquet\"\n",
    "df_users.to_parquet(output_path, engine=\"pyarrow\", compression=\"snappy\")\n",
    "print(\"✅ Archivo guardado en:\", output_path)"
   ]
  }
 ],
 "metadata": {
  "kernelspec": {
   "display_name": "Python 3",
   "language": "python",
   "name": "python3"
  },
  "language_info": {
   "codemirror_mode": {
    "name": "ipython",
    "version": 3
   },
   "file_extension": ".py",
   "mimetype": "text/x-python",
   "name": "python",
   "nbconvert_exporter": "python",
   "pygments_lexer": "ipython3",
   "version": "3.12.3"
  }
 },
 "nbformat": 4,
 "nbformat_minor": 2
}
