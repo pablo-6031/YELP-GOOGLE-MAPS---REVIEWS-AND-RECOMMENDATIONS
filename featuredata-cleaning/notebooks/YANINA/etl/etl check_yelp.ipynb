{
 "cells": [
  {
   "cell_type": "code",
   "execution_count": null,
   "metadata": {},
   "outputs": [],
   "source": []
  },
  {
   "cell_type": "code",
   "execution_count": null,
   "metadata": {},
   "outputs": [],
   "source": [
    "\n",
    "\n",
    "\n",
    "\n",
    "\n"
   ]
  },
  {
   "cell_type": "code",
   "execution_count": null,
   "metadata": {},
   "outputs": [
    {
     "name": "stdout",
     "output_type": "stream",
     "text": [
      "Tamaño del DataFrame: (131930, 2)\n"
     ]
    }
   ],
   "source": []
  },
  {
   "cell_type": "code",
   "execution_count": null,
   "metadata": {},
   "outputs": [],
   "source": [
    "import pandas as pd\n",
    "# Cargar el archivo checkin.json con lines=True\n",
    "df_checkins = pd.read_json(r\"C:\\Users\\yanin\\OneDrive\\Desktop\\proyecto final\\archivos\\yelp\\checkin.json\", lines=True)\n",
    "\n",
    "# Ver las primeras filas del DataFrame\n",
    "print(df_checkins.head())\n",
    "# Información general del DataFrame\n",
    "print(\"📊 Información del DataFrame:\")\n",
    "print(df_checkins.info())\n",
    "\n",
    "# Información general del DataFrame\n",
    "print(\"📊 informacion sobre tipo de datos del DataFrame:\")\n",
    "print(df_checkins.dtypes)\n",
    "print(\"Tamaño del DataFrame:\", df_checkins.shape)\n",
    "print(\"Valores nulos por columna:\")\n",
    "print(df_checkins.isnull().sum())\n",
    "print(\"Número de filas duplicadas:\", df_checkins.duplicated().sum())\n",
    "\n",
    "df_duplicados = df_checkins[df_checkins.duplicated()]\n",
    "print(df_duplicados)\n",
    "# Descripción estadística\n",
    "print(\"\\n📈 Estadísticas generales:\")\n",
    "print(df_checkins.describe(include=\"all\"))\n",
    "\n",
    "print(\"Tamaño del DataFrame:\", df_checkins.shape)\n",
    "print(\"Tamaño del DataFrame:\", df_checkins.shape)\n",
    "# Normalizar las fechas separadas por comas\n",
    "rows = []\n",
    "for entry in df_checkins.to_dict(orient=\"records\"):\n",
    "    business_id = entry[\"business_id\"]\n",
    "    if pd.notna(entry[\"date\"]):  # Asegurar que no hay valores nulos\n",
    "        dates = entry[\"date\"].split(\", \")\n",
    "        for date in dates:\n",
    "            rows.append({\"business_id\": business_id, \"checkin_date\": date})\n",
    "\n",
    "# Convertir en DataFrame\n",
    "df_checkin = pd.DataFrame(rows)\n",
    "# Guardar en Parquet con compresión Snappy\n",
    "output_path = \"checkins.parquet\"\n",
    "df_checkin.to_parquet(output_path, engine=\"pyarrow\", compression=\"snappy\")\n",
    "print(\"✅ checkin.json convertido a checkin.parquet\")"
   ]
  },
  {
   "cell_type": "code",
   "execution_count": null,
   "metadata": {},
   "outputs": [
    {
     "name": "stdout",
     "output_type": "stream",
     "text": [
      "✅ checkin.json convertido a checkin.parquet\n"
     ]
    }
   ],
   "source": []
  }
 ],
 "metadata": {
  "kernelspec": {
   "display_name": "Python 3",
   "language": "python",
   "name": "python3"
  },
  "language_info": {
   "codemirror_mode": {
    "name": "ipython",
    "version": 3
   },
   "file_extension": ".py",
   "mimetype": "text/x-python",
   "name": "python",
   "nbconvert_exporter": "python",
   "pygments_lexer": "ipython3",
   "version": "3.12.3"
  }
 },
 "nbformat": 4,
 "nbformat_minor": 2
}
