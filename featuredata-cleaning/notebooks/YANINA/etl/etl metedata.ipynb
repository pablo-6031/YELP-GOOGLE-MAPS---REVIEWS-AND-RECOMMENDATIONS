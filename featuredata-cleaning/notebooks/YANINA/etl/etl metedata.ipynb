{
 "cells": [
  {
   "cell_type": "code",
   "execution_count": 1,
   "id": "d113b4d8",
   "metadata": {},
   "outputs": [
    {
     "name": "stdout",
     "output_type": "stream",
     "text": [
      "📂 Procesando: 1.json\n",
      "✅ Archivo corregido guardado en: C:\\Users\\yanin\\OneDrive\\Desktop\\etl\\data_lake\\raw\\google\\metadata-sitios-20250406T191417Z-001\\metadata-sitios\\1_fixed.json\n"
     ]
    },
    {
     "name": "stderr",
     "output_type": "stream",
     "text": [
      "C:\\Users\\yanin\\AppData\\Local\\Temp\\ipykernel_5428\\1539381547.py:74: FutureWarning: DataFrame.applymap has been deprecated. Use DataFrame.map instead.\n",
      "  df_temp = df.applymap(lambda x: str(x) if isinstance(x, (list, dict)) else x)\n"
     ]
    },
    {
     "name": "stdout",
     "output_type": "stream",
     "text": [
      "✅ Columnas eliminadas: ['MISC', 'url', 'state', 'relative_results', 'price']\n",
      "📂 Procesando: 10.json\n",
      "✅ Archivo corregido guardado en: C:\\Users\\yanin\\OneDrive\\Desktop\\etl\\data_lake\\raw\\google\\metadata-sitios-20250406T191417Z-001\\metadata-sitios\\10_fixed.json\n"
     ]
    },
    {
     "name": "stderr",
     "output_type": "stream",
     "text": [
      "C:\\Users\\yanin\\AppData\\Local\\Temp\\ipykernel_5428\\1539381547.py:74: FutureWarning: DataFrame.applymap has been deprecated. Use DataFrame.map instead.\n",
      "  df_temp = df.applymap(lambda x: str(x) if isinstance(x, (list, dict)) else x)\n"
     ]
    },
    {
     "name": "stdout",
     "output_type": "stream",
     "text": [
      "✅ Columnas eliminadas: ['MISC', 'url', 'state', 'relative_results', 'price']\n",
      "📂 Procesando: 11.json\n",
      "✅ Archivo corregido guardado en: C:\\Users\\yanin\\OneDrive\\Desktop\\etl\\data_lake\\raw\\google\\metadata-sitios-20250406T191417Z-001\\metadata-sitios\\11_fixed.json\n"
     ]
    },
    {
     "name": "stderr",
     "output_type": "stream",
     "text": [
      "C:\\Users\\yanin\\AppData\\Local\\Temp\\ipykernel_5428\\1539381547.py:74: FutureWarning: DataFrame.applymap has been deprecated. Use DataFrame.map instead.\n",
      "  df_temp = df.applymap(lambda x: str(x) if isinstance(x, (list, dict)) else x)\n"
     ]
    },
    {
     "name": "stdout",
     "output_type": "stream",
     "text": [
      "✅ Columnas eliminadas: ['MISC', 'url', 'state', 'relative_results', 'price']\n",
      "📂 Procesando: 2.json\n",
      "✅ Archivo corregido guardado en: C:\\Users\\yanin\\OneDrive\\Desktop\\etl\\data_lake\\raw\\google\\metadata-sitios-20250406T191417Z-001\\metadata-sitios\\2_fixed.json\n"
     ]
    },
    {
     "name": "stderr",
     "output_type": "stream",
     "text": [
      "C:\\Users\\yanin\\AppData\\Local\\Temp\\ipykernel_5428\\1539381547.py:74: FutureWarning: DataFrame.applymap has been deprecated. Use DataFrame.map instead.\n",
      "  df_temp = df.applymap(lambda x: str(x) if isinstance(x, (list, dict)) else x)\n"
     ]
    },
    {
     "name": "stdout",
     "output_type": "stream",
     "text": [
      "✅ Columnas eliminadas: ['MISC', 'url', 'state', 'relative_results', 'price']\n",
      "📂 Procesando: 3.json\n",
      "✅ Archivo corregido guardado en: C:\\Users\\yanin\\OneDrive\\Desktop\\etl\\data_lake\\raw\\google\\metadata-sitios-20250406T191417Z-001\\metadata-sitios\\3_fixed.json\n"
     ]
    },
    {
     "name": "stderr",
     "output_type": "stream",
     "text": [
      "C:\\Users\\yanin\\AppData\\Local\\Temp\\ipykernel_5428\\1539381547.py:74: FutureWarning: DataFrame.applymap has been deprecated. Use DataFrame.map instead.\n",
      "  df_temp = df.applymap(lambda x: str(x) if isinstance(x, (list, dict)) else x)\n"
     ]
    },
    {
     "name": "stdout",
     "output_type": "stream",
     "text": [
      "✅ Columnas eliminadas: ['MISC', 'url', 'state', 'relative_results', 'price']\n",
      "📂 Procesando: 4.json\n",
      "✅ Archivo corregido guardado en: C:\\Users\\yanin\\OneDrive\\Desktop\\etl\\data_lake\\raw\\google\\metadata-sitios-20250406T191417Z-001\\metadata-sitios\\4_fixed.json\n"
     ]
    },
    {
     "name": "stderr",
     "output_type": "stream",
     "text": [
      "C:\\Users\\yanin\\AppData\\Local\\Temp\\ipykernel_5428\\1539381547.py:74: FutureWarning: DataFrame.applymap has been deprecated. Use DataFrame.map instead.\n",
      "  df_temp = df.applymap(lambda x: str(x) if isinstance(x, (list, dict)) else x)\n"
     ]
    },
    {
     "name": "stdout",
     "output_type": "stream",
     "text": [
      "✅ Columnas eliminadas: ['MISC', 'url', 'state', 'relative_results', 'price']\n",
      "📂 Procesando: 5.json\n",
      "✅ Archivo corregido guardado en: C:\\Users\\yanin\\OneDrive\\Desktop\\etl\\data_lake\\raw\\google\\metadata-sitios-20250406T191417Z-001\\metadata-sitios\\5_fixed.json\n"
     ]
    },
    {
     "name": "stderr",
     "output_type": "stream",
     "text": [
      "C:\\Users\\yanin\\AppData\\Local\\Temp\\ipykernel_5428\\1539381547.py:74: FutureWarning: DataFrame.applymap has been deprecated. Use DataFrame.map instead.\n",
      "  df_temp = df.applymap(lambda x: str(x) if isinstance(x, (list, dict)) else x)\n"
     ]
    },
    {
     "name": "stdout",
     "output_type": "stream",
     "text": [
      "✅ Columnas eliminadas: ['MISC', 'url', 'state', 'relative_results', 'price']\n",
      "📂 Procesando: 6.json\n",
      "✅ Archivo corregido guardado en: C:\\Users\\yanin\\OneDrive\\Desktop\\etl\\data_lake\\raw\\google\\metadata-sitios-20250406T191417Z-001\\metadata-sitios\\6_fixed.json\n"
     ]
    },
    {
     "name": "stderr",
     "output_type": "stream",
     "text": [
      "C:\\Users\\yanin\\AppData\\Local\\Temp\\ipykernel_5428\\1539381547.py:74: FutureWarning: DataFrame.applymap has been deprecated. Use DataFrame.map instead.\n",
      "  df_temp = df.applymap(lambda x: str(x) if isinstance(x, (list, dict)) else x)\n"
     ]
    },
    {
     "name": "stdout",
     "output_type": "stream",
     "text": [
      "✅ Columnas eliminadas: ['MISC', 'url', 'state', 'relative_results', 'price']\n",
      "📂 Procesando: 7.json\n",
      "✅ Archivo corregido guardado en: C:\\Users\\yanin\\OneDrive\\Desktop\\etl\\data_lake\\raw\\google\\metadata-sitios-20250406T191417Z-001\\metadata-sitios\\7_fixed.json\n"
     ]
    },
    {
     "name": "stderr",
     "output_type": "stream",
     "text": [
      "C:\\Users\\yanin\\AppData\\Local\\Temp\\ipykernel_5428\\1539381547.py:74: FutureWarning: DataFrame.applymap has been deprecated. Use DataFrame.map instead.\n",
      "  df_temp = df.applymap(lambda x: str(x) if isinstance(x, (list, dict)) else x)\n"
     ]
    },
    {
     "name": "stdout",
     "output_type": "stream",
     "text": [
      "✅ Columnas eliminadas: ['MISC', 'url', 'state', 'relative_results', 'price']\n",
      "📂 Procesando: 8.json\n",
      "✅ Archivo corregido guardado en: C:\\Users\\yanin\\OneDrive\\Desktop\\etl\\data_lake\\raw\\google\\metadata-sitios-20250406T191417Z-001\\metadata-sitios\\8_fixed.json\n"
     ]
    },
    {
     "name": "stderr",
     "output_type": "stream",
     "text": [
      "C:\\Users\\yanin\\AppData\\Local\\Temp\\ipykernel_5428\\1539381547.py:74: FutureWarning: DataFrame.applymap has been deprecated. Use DataFrame.map instead.\n",
      "  df_temp = df.applymap(lambda x: str(x) if isinstance(x, (list, dict)) else x)\n"
     ]
    },
    {
     "name": "stdout",
     "output_type": "stream",
     "text": [
      "✅ Columnas eliminadas: ['MISC', 'url', 'state', 'relative_results', 'price']\n",
      "📂 Procesando: 9.json\n",
      "✅ Archivo corregido guardado en: C:\\Users\\yanin\\OneDrive\\Desktop\\etl\\data_lake\\raw\\google\\metadata-sitios-20250406T191417Z-001\\metadata-sitios\\9_fixed.json\n"
     ]
    },
    {
     "name": "stderr",
     "output_type": "stream",
     "text": [
      "C:\\Users\\yanin\\AppData\\Local\\Temp\\ipykernel_5428\\1539381547.py:74: FutureWarning: DataFrame.applymap has been deprecated. Use DataFrame.map instead.\n",
      "  df_temp = df.applymap(lambda x: str(x) if isinstance(x, (list, dict)) else x)\n"
     ]
    },
    {
     "name": "stdout",
     "output_type": "stream",
     "text": [
      "✅ Columnas eliminadas: ['MISC', 'url', 'state', 'relative_results', 'price']\n",
      "✅ Total de restaurantes en CA y WY: 27074\n",
      "                   name state_code    city_name\n",
      "0          San Soo Dang         CA  Los Angeles\n",
      "1          Vons Chicken         CA    La Mirada\n",
      "12      TACOS LA CABANA         CA      Oakland\n",
      "13  Mariscos el poblano         CA      Oakland\n",
      "19         Off The Hoof         CA    Santa Ana\n",
      "💾 Archivo guardado en: c:\\Users\\yanin\\OneDrive\\Desktop\\etl\\data_lake\\trusted\\google\\restaurantes_CA_WY.parquet\n"
     ]
    }
   ],
   "source": [
    "# ────────────────────────────────\n",
    "# 📦 Importación de librerías\n",
    "# ────────────────────────────────\n",
    "import json\n",
    "import pandas as pd\n",
    "import numpy as np\n",
    "import re\n",
    "import os\n",
    "\n",
    "# ────────────────────────────────\n",
    "# 📁 Configuración inicial\n",
    "# ────────────────────────────────\n",
    "carpeta = r\"C:\\Users\\yanin\\OneDrive\\Desktop\\etl\\data_lake\\raw\\google\\metadata-sitios-20250406T191417Z-001\\metadata-sitios\"\n",
    "output_path = r\"c:\\Users\\yanin\\OneDrive\\Desktop\\etl\\data_lake\\trusted\\google\\restaurantes_CA_WY.parquet\"\n",
    "lista_df = []\n",
    "\n",
    "# ────────────────────────────────\n",
    "# 🧩 Funciones auxiliares\n",
    "# ────────────────────────────────\n",
    "def extraer_estado(address):\n",
    "    if isinstance(address, str):\n",
    "        match = re.search(r',\\s*([A-Z]{2})\\s*\\d{5}', address)\n",
    "        if match:\n",
    "            return match.group(1)\n",
    "    return np.nan\n",
    "\n",
    "def extraer_ciudad(address):\n",
    "    if isinstance(address, str):\n",
    "        partes = address.split(\",\")\n",
    "        if len(partes) >= 3:\n",
    "            ciudad = partes[-2].strip()\n",
    "            return ciudad\n",
    "    return np.nan\n",
    "\n",
    "# ────────────────────────────────\n",
    "# 🔁 Procesamiento de cada archivo JSON\n",
    "# ────────────────────────────────\n",
    "for archivo in os.listdir(carpeta):\n",
    "    if archivo.endswith(\".json\"):\n",
    "        file_path = os.path.join(carpeta, archivo)\n",
    "        print(f\"📂 Procesando: {archivo}\")\n",
    "\n",
    "        # Intentar cargar el archivo JSON\n",
    "        try:\n",
    "            with open(file_path, \"r\", encoding=\"utf-8\") as f:\n",
    "                data = json.load(f)\n",
    "        except json.JSONDecodeError:\n",
    "            with open(file_path, \"r\", encoding=\"utf-8\") as f:\n",
    "                lines = f.readlines()\n",
    "\n",
    "            fixed_content = \"[\\n\" + \",\\n\".join(line.strip() for line in lines if line.strip()) + \"\\n]\"\n",
    "            file_fixed_path = file_path.replace(\".json\", \"_fixed.json\")\n",
    "\n",
    "            with open(file_fixed_path, \"w\", encoding=\"utf-8\") as f:\n",
    "                f.write(fixed_content)\n",
    "\n",
    "            with open(file_fixed_path, \"r\", encoding=\"utf-8\") as f:\n",
    "                data = json.load(f)\n",
    "\n",
    "            print(f\"✅ Archivo corregido guardado en: {file_fixed_path}\")\n",
    "\n",
    "        df = pd.DataFrame(data)\n",
    "\n",
    "        # 🍽️ Filtrar restaurantes\n",
    "        df = df[df['category'].apply(lambda x: any('restaurant' in cat.lower() for cat in x) if isinstance(x, list) else False)]\n",
    "\n",
    "        # 🧹 Eliminar columnas con muchos nulos\n",
    "        umbral_nulos = 0.40\n",
    "        nulos = df.isnull().mean()\n",
    "        columnas_nulas = nulos[nulos > umbral_nulos].index.tolist()\n",
    "        df = df.drop(columns=columnas_nulas)\n",
    "\n",
    "        # 🔁 Eliminar duplicados\n",
    "        df_temp = df.applymap(lambda x: str(x) if isinstance(x, (list, dict)) else x)\n",
    "        df = df[~df_temp.duplicated()]\n",
    "\n",
    "        # 🗺️ Extraer código de estado y ciudad\n",
    "        df['state_code'] = df['address'].apply(extraer_estado)\n",
    "        df['city_name'] = df['address'].apply(extraer_ciudad)\n",
    "\n",
    "        # 🧪 Normalizar tipos de datos\n",
    "        df['name'] = df['name'].astype('string')\n",
    "        df['address'] = df['address'].astype('string')\n",
    "        df['gmap_id'] = df['gmap_id'].astype('string')\n",
    "        df['latitude'] = pd.to_numeric(df['latitude'], errors='coerce')\n",
    "        df['longitude'] = pd.to_numeric(df['longitude'], errors='coerce')\n",
    "        df['category'] = df['category'].astype('string')\n",
    "        df['avg_rating'] = pd.to_numeric(df['avg_rating'], errors='coerce')\n",
    "        df['num_of_reviews'] = pd.to_numeric(df['num_of_reviews'], errors='coerce').astype('Int64')\n",
    "        df['state_code'] = df['state_code'].astype('string')\n",
    "        df['city_name'] = df['city_name'].astype('string')\n",
    "\n",
    "        # 🧹 Eliminar columnas innecesarias\n",
    "        columnas_a_eliminar = ['MISC', 'url', 'state', 'relative_results','price']\n",
    "        df = df.drop(columns=[col for col in columnas_a_eliminar if col in df.columns])\n",
    "        print(\"✅ Columnas eliminadas:\", columnas_a_eliminar)\n",
    "\n",
    "        # 📥 Agregar al listado de DataFrames\n",
    "        lista_df.append(df)\n",
    "\n",
    "# ────────────────────────────────\n",
    "# 🧩 Unir todos los DataFrames\n",
    "# ────────────────────────────────\n",
    "df_total = pd.concat(lista_df, ignore_index=True)\n",
    "\n",
    "# 📍 Filtrar por estados: California y Wyoming\n",
    "df_filtrado = df_total[df_total['state_code'].isin(['CA', 'WY'])]\n",
    "\n",
    "# 📊 Resultado final\n",
    "print(\"✅ Total de restaurantes en CA y WY:\", df_filtrado.shape[0])\n",
    "print(df_filtrado[['name', 'state_code', 'city_name']].head())\n",
    "\n",
    "# 💾 Guardar como Parquet\n",
    "os.makedirs(os.path.dirname(output_path), exist_ok=True)\n",
    "df_filtrado.to_parquet(output_path, index=False)\n",
    "print(f\"💾 Archivo guardado en: {output_path}\")\n"
   ]
  },
  {
   "cell_type": "code",
   "execution_count": 2,
   "id": "b46360fd",
   "metadata": {},
   "outputs": [
    {
     "name": "stdout",
     "output_type": "stream",
     "text": [
      "                  name                                            address  \\\n",
      "0         San Soo Dang  San Soo Dang, 761 S Vermont Ave, Los Angeles, ...   \n",
      "1         Vons Chicken  Vons Chicken, 12740 La Mirada Blvd, La Mirada,...   \n",
      "2      TACOS LA CABANA  TACOS LA CABANA, 2015 22nd Ave, Oakland, CA 94606   \n",
      "3  Mariscos el poblano  Mariscos el poblano, 5401-5441 Coliseum Way, O...   \n",
      "4         Off The Hoof    Off The Hoof, 201 E 4th St, Santa Ana, CA 92701   \n",
      "\n",
      "                                 gmap_id   latitude   longitude  \\\n",
      "0  0x80c2c778e3b73d33:0xbdc58662a4a97d49  34.058092 -118.292130   \n",
      "1  0x80dd2b4c8555edb7:0xfc33d65c4bdbef42  33.916402 -118.010855   \n",
      "2  0x808f879f35b5088b:0xe3541cec7a95bd88  37.789076 -122.233884   \n",
      "3  0x808f87f90c1f661f:0xf384e804a61e0c0b  37.764203 -122.214647   \n",
      "4  0x80dcd95d192d988b:0x68795f58e35bf888  33.748329 -117.866045   \n",
      "\n",
      "                category  avg_rating  num_of_reviews  \\\n",
      "0  ['Korean restaurant']         4.4              18   \n",
      "1         ['Restaurant']         4.5              18   \n",
      "2    ['Taco restaurant']         5.0               2   \n",
      "3         ['Restaurant']         5.0               3   \n",
      "4         ['Restaurant']         4.0               3   \n",
      "\n",
      "                                               hours state_code    city_name  \n",
      "0  [[Thursday, 6:30AM–6PM], [Friday, 6:30AM–6PM],...         CA  Los Angeles  \n",
      "1  [[Thursday, 11AM–9:30PM], [Friday, 11AM–9:30PM...         CA    La Mirada  \n",
      "2  [[Thursday, Closed], [Friday, 5–11PM], [Saturd...         CA      Oakland  \n",
      "3  [[Thursday, Open 24 hours], [Friday, 8AM–3:30P...         CA      Oakland  \n",
      "4  [[Thursday, 11AM–10PM], [Friday, 11AM–10PM], [...         CA    Santa Ana  \n"
     ]
    }
   ],
   "source": [
    "import pandas as pd\n",
    "\n",
    "# Ruta del archivo parquet\n",
    "archivo_parquet = r\"c:\\Users\\yanin\\OneDrive\\Desktop\\etl\\data_lake\\trusted\\google\\restaurantes_CA_WY.parquet\"\n",
    "\n",
    "# Cargar el archivo\n",
    "df = pd.read_parquet(archivo_parquet)\n",
    "\n",
    "# Ver las primeras filas\n",
    "print(df.head())\n"
   ]
  },
  {
   "cell_type": "code",
   "execution_count": 3,
   "id": "e2ac0c4f",
   "metadata": {},
   "outputs": [
    {
     "name": "stdout",
     "output_type": "stream",
     "text": [
      "                nulos     %\n",
      "hours            2416  8.92\n",
      "address             0  0.00\n",
      "name                0  0.00\n",
      "gmap_id             0  0.00\n",
      "latitude            0  0.00\n",
      "category            0  0.00\n",
      "longitude           0  0.00\n",
      "avg_rating          0  0.00\n",
      "num_of_reviews      0  0.00\n",
      "state_code          0  0.00\n",
      "city_name           0  0.00\n"
     ]
    }
   ],
   "source": [
    "# Mostrar cantidad y porcentaje de nulos por columna\n",
    "nulos = df.isnull().sum().to_frame(name='nulos')\n",
    "nulos['%'] = (df.isnull().mean() * 100).round(2)\n",
    "nulos = nulos.sort_values(by='%', ascending=False)\n",
    "\n",
    "print(nulos)\n"
   ]
  }
 ],
 "metadata": {
  "kernelspec": {
   "display_name": "Python 3",
   "language": "python",
   "name": "python3"
  },
  "language_info": {
   "codemirror_mode": {
    "name": "ipython",
    "version": 3
   },
   "file_extension": ".py",
   "mimetype": "text/x-python",
   "name": "python",
   "nbconvert_exporter": "python",
   "pygments_lexer": "ipython3",
   "version": "3.12.3"
  }
 },
 "nbformat": 4,
 "nbformat_minor": 5
}
