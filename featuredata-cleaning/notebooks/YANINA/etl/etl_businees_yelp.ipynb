{
 "cells": [
  {
   "cell_type": "code",
   "execution_count": null,
   "metadata": {},
   "outputs": [
    {
     "name": "stdout",
     "output_type": "stream",
     "text": [
      "Index(['business_id', 'name', 'address', 'city', 'state', 'postal_code'], dtype='object')\n"
     ]
    }
   ],
   "source": [
    "import pandas as pd\n",
    "import numpy as np\n",
    "# Cargar business.pkl\n",
    "df_business = pd.read_pickle(r\"C:\\Users\\yanin\\OneDrive\\Desktop\\etl\\data_lake\\raw\\yelp\\business.pkl\")\n",
    "# Eliminar columnas duplicadas por nombre\n",
    "df_business= df_business.loc[:, ~df_business.columns.duplicated()]\n",
    "# Ver cuántos valores nulos hay por columna\n",
    "print(df_business.isnull().sum())\n",
    "# Ver porcentaje de valores nulos\n",
    "print((df_business.isnull().sum() / len(df_business)) * 100)\n",
    "# Lista de columnas que deberían ser numéricas\n",
    "columnas_numericas = ['stars', 'review_count', 'latitude', 'longitude','is_open']  # Ajusta los nombres de las columnas según tu DataFrame\n",
    "\n",
    "# Convertir todas las columnas mencionadas a tipo numérico\n",
    "for columna in columnas_numericas:\n",
    "    df_business[columna] = pd.to_numeric(df_business[columna], errors='coerce')\n",
    "\n",
    "# Verificar si las columnas se han convertido correctamente a numéricas\n",
    "print(df_business.select_dtypes(include=[np.number]).columns)\n",
    "# Convertir las columnas específicas a tipo 'string'\n",
    "columnas_string = ['business_id', 'name', 'address', 'city', 'state', 'postal_code']\n",
    "\n",
    "# Convertir las columnas seleccionadas a tipo string\n",
    "df_business[columnas_string] = df_business[columnas_string].astype('string')\n",
    "\n",
    "# Verificar las columnas de tipo string después de la conversión\n",
    "print(df_business.select_dtypes(include=['string']).columns)\n",
    "# Guardar en Parquet\n",
    "df_business.to_parquet(\"business.parquet\", engine=\"pyarrow\", compression=\"snappy\")\n",
    "\n",
    "print(\"business.pkl convertido a Parquet\")"
   ]
  },
  {
   "cell_type": "code",
   "execution_count": null,
   "metadata": {},
   "outputs": [
    {
     "name": "stdout",
     "output_type": "stream",
     "text": [
      "business.pkl convertido a Parquet\n"
     ]
    }
   ],
   "source": []
  }
 ],
 "metadata": {
  "kernelspec": {
   "display_name": "Python 3",
   "language": "python",
   "name": "python3"
  },
  "language_info": {
   "codemirror_mode": {
    "name": "ipython",
    "version": 3
   },
   "file_extension": ".py",
   "mimetype": "text/x-python",
   "name": "python",
   "nbconvert_exporter": "python",
   "pygments_lexer": "ipython3",
   "version": "3.12.3"
  }
 },
 "nbformat": 4,
 "nbformat_minor": 2
}
